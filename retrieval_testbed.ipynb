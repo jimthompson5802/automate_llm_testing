{
 "cells": [
  {
   "cell_type": "code",
   "execution_count": 1,
   "metadata": {},
   "outputs": [],
   "source": [
    "\n",
    "from langchain_openai import OpenAIEmbeddings\n",
    "from langchain_community.vectorstores import FAISS\n",
    "from langchain_openai import OpenAIEmbeddings\n",
    "\n"
   ]
  },
  {
   "cell_type": "code",
   "execution_count": 2,
   "metadata": {},
   "outputs": [],
   "source": [
    "VECTOR_DB_FP = \"vector_stores/vector_store_faiss_openai\"\n"
   ]
  },
  {
   "cell_type": "code",
   "execution_count": 3,
   "metadata": {},
   "outputs": [],
   "source": [
    "# setup embeddings\n",
    "embeddings = OpenAIEmbeddings(model=\"text-embedding-3-small\")"
   ]
  },
  {
   "cell_type": "code",
   "execution_count": 4,
   "metadata": {},
   "outputs": [],
   "source": [
    "# restore vector store\n",
    "vector_store = FAISS.load_local(\n",
    "    VECTOR_DB_FP, embeddings, allow_dangerous_deserialization=True\n",
    ")\n"
   ]
  },
  {
   "cell_type": "code",
   "execution_count": 5,
   "metadata": {},
   "outputs": [
    {
     "name": "stdout",
     "output_type": "stream",
     "text": [
      "\n",
      "Query: tell me about space travel?, related material:\n",
      "## **The Future of Space Exploration: Colonizing Mars and Beyond**\n",
      "\n",
      "### **Introduction** Space exploration has captured human imagination for centuries. With recent advancements in rocketry and planetary science, interplanetary colonization is no longer a dream but a plausible reality.\n",
      "\n",
      "### **Milestones in Space Exploration** The Space Race led to the first moon landing in 1969, and subsequent missions expanded our knowledge of the solar system. The International Space Station (ISS) demonstrated long-term human habitation in space, while private companies like SpaceX and Blue Origin have revitalized interest in space travel.\n",
      "### **Colonizing Mars** Mars presents the most feasible option for colonization due to its relative proximity and similarities to Earth. Challenges include radiation exposure, lack of a breathable atmosphere, and low temperatures. Technologies such as in-situ resource utilization (ISRU) and nuclear propulsion could make Mars colonization possible.\n",
      "\n",
      "### **Beyond Mars: The Interstellar Future** Long-term space colonization may involve asteroid mining, O’Neill cylinders, and generational starships. Breakthrough propulsion systems, such as antimatter drives or warp technology, could one day allow humans to explore exoplanets.\n",
      "### **Modern Applications** Today, AI powers everything from recommendation systems (Netflix, Amazon) to autonomous vehicles. Generative AI, like ChatGPT, is revolutionizing content creation, while AI in medicine enhances diagnostics and drug discovery.\n",
      "\n",
      "### **Ethical Concerns and Future Prospects** As AI becomes more advanced, ethical dilemmas emerge, including bias in algorithms, job displacement, and the potential dangers of artificial general intelligence (AGI). Future AI may enhance human cognition, solve global challenges, or even integrate with biological intelligence.\n"
     ]
    }
   ],
   "source": [
    "# Retrieve chunks based on a prompt\n",
    "query = \"tell me about space travel?\"\n",
    "relevant_chunks = vector_store.similarity_search(query, k=3)\n",
    "\n",
    "# Print retrieved chunks with source information\n",
    "print(f\"\\nQuery: {query}, related material:\")\n",
    "retrieved_data = \"\\n\".join([chunk.page_content for chunk in relevant_chunks])\n",
    "print(retrieved_data)\n"
   ]
  }
 ],
 "metadata": {
  "kernelspec": {
   "display_name": "venv",
   "language": "python",
   "name": "python3"
  },
  "language_info": {
   "codemirror_mode": {
    "name": "ipython",
    "version": 3
   },
   "file_extension": ".py",
   "mimetype": "text/x-python",
   "name": "python",
   "nbconvert_exporter": "python",
   "pygments_lexer": "ipython3",
   "version": "3.12.9"
  }
 },
 "nbformat": 4,
 "nbformat_minor": 2
}
