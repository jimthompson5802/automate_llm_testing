{
 "cells": [
  {
   "cell_type": "code",
   "execution_count": 1,
   "metadata": {},
   "outputs": [],
   "source": [
    "import json\n",
    "from langchain_openai import OpenAIEmbeddings\n",
    "from langchain_community.vectorstores import FAISS\n",
    "from langchain_openai import OpenAIEmbeddings\n",
    "\n"
   ]
  },
  {
   "cell_type": "code",
   "execution_count": 2,
   "metadata": {},
   "outputs": [],
   "source": [
    "VECTOR_DB_FP = \"vector_stores/vector_store_faiss_openai\"\n",
    "TEST_SET_FP = \"test_sets/baseline_test_set.json\"\n"
   ]
  },
  {
   "cell_type": "code",
   "execution_count": 3,
   "metadata": {},
   "outputs": [],
   "source": [
    "# setup embeddings\n",
    "embeddings = OpenAIEmbeddings(model=\"text-embedding-3-small\")"
   ]
  },
  {
   "cell_type": "code",
   "execution_count": 4,
   "metadata": {},
   "outputs": [],
   "source": [
    "# restore vector store\n",
    "vector_store = FAISS.load_local(\n",
    "    VECTOR_DB_FP, embeddings, allow_dangerous_deserialization=True\n",
    ")\n"
   ]
  },
  {
   "cell_type": "code",
   "execution_count": 5,
   "metadata": {},
   "outputs": [],
   "source": [
    "# retriev test set\n",
    "with open(TEST_SET_FP, \"r\") as f:\n",
    "    test_set = json.load(f)"
   ]
  },
  {
   "cell_type": "code",
   "execution_count": 6,
   "metadata": {},
   "outputs": [
    {
     "name": "stdout",
     "output_type": "stream",
     "text": [
      "\n",
      "Query: Provide a summary of space exploration, related material:\n",
      "## **The Future of Space Exploration: Colonizing Mars and Beyond**\n",
      "\n",
      "### **Introduction** Space exploration has captured human imagination for centuries. With recent advancements in rocketry and planetary science, interplanetary colonization is no longer a dream but a plausible reality.\n",
      "\n",
      "### **Milestones in Space Exploration** The Space Race led to the first moon landing in 1969, and subsequent missions expanded our knowledge of the solar system. The International Space Station (ISS) demonstrated long-term human habitation in space, while private companies like SpaceX and Blue Origin have revitalized interest in space travel.\n",
      "### **Colonizing Mars** Mars presents the most feasible option for colonization due to its relative proximity and similarities to Earth. Challenges include radiation exposure, lack of a breathable atmosphere, and low temperatures. Technologies such as in-situ resource utilization (ISRU) and nuclear propulsion could make Mars colonization possible.\n",
      "\n",
      "### **Beyond Mars: The Interstellar Future** Long-term space colonization may involve asteroid mining, O’Neill cylinders, and generational starships. Breakthrough propulsion systems, such as antimatter drives or warp technology, could one day allow humans to explore exoplanets.\n",
      "\n",
      "Query: Provide a summary of philosopy consciousness, related material:\n",
      "## **The Philosophy of Consciousness: Understanding the Mind**\n",
      "\n",
      "### **Introduction** Consciousness remains one of philosophy's greatest mysteries. Despite advances in neuroscience, defining and understanding subjective experience is still an ongoing debate.\n",
      "\n",
      "### **Dualism vs. Materialism** Philosophers like Descartes argued for dualism—the idea that the mind and body are separate entities. In contrast, materialists believe consciousness arises from physical processes in the brain. Modern neuroscience supports a materialist view, yet the \"hard problem of consciousness\" persists.\n",
      "### **Theories of Consciousness** - **Integrated Information Theory (IIT):** Suggests consciousness arises from highly interconnected information processing. - **Global Workspace Theory (GWT):** Proposes that consciousness is a result of information being broadcast across different brain regions. - **Panpsychism:** The idea that all matter possesses some form of consciousness, a theory gaining traction among some modern thinkers.\n",
      "\n",
      "### **Implications for AI and Ethics** If consciousness emerges from computation, could AI become sentient? The ethical implications of conscious machines raise concerns about rights and treatment.\n",
      "\n",
      "Query: Provide a summary of ancient civilizations, related material:\n",
      "## **The Legacy of Ancient Civilizations**\n",
      "\n",
      "### **Introduction** Ancient civilizations laid the foundations for modern society through their contributions in governance, science, and culture. Examining their achievements helps us understand human progress.\n",
      "\n",
      "### **Mesopotamia: The Cradle of Civilization** The Sumerians developed the first writing system (cuneiform), advanced irrigation, and early forms of law. Hammurabi’s Code influenced modern legal systems.\n",
      "\n",
      "### **Ancient Egypt: Engineering and Spirituality** The Egyptians built the pyramids, demonstrating advanced engineering. Their medical practices, mathematics, and religious beliefs shaped later civilizations.\n",
      "### **Classical Greece and Rome** Greek philosophers like Socrates, Plato, and Aristotle influenced Western thought. Rome’s contributions to governance, architecture, and law continue to impact modern societies.\n",
      "\n",
      "### **The Maya and Other Pre-Columbian Civilizations** The Maya excelled in astronomy, creating a sophisticated calendar system. The Inca built extensive road networks, and the Aztecs demonstrated remarkable urban planning.\n",
      "\n",
      "### **Conclusion** By studying ancient civilizations, we gain insights into technological advancements, governance, and societal evolution. Their legacies continue to shape modern humanity.\n",
      "\n",
      "Query: Provide a summary of climate change, related material:\n",
      "## **Climate Change and the Future of the Planet**\n",
      "\n",
      "### **Introduction** Climate change is one of the most pressing global issues, driven by human activity, fossil fuel consumption, and deforestation. The consequences of rising temperatures, extreme weather events, and biodiversity loss threaten ecosystems and human societies.\n",
      "\n",
      "### **Scientific Consensus and Causes** Over 97% of climate scientists agree that human activities are the primary cause of climate change. The greenhouse effect, where gases like CO₂ trap heat in the atmosphere, has intensified due to industrialization.\n",
      "### **Effects of Climate Change** - Rising sea levels threaten coastal cities. - More frequent wildfires, hurricanes, and droughts. - Disruption of agriculture and food supplies. - Loss of biodiversity and habitat destruction.\n",
      "\n",
      "### **Mitigation and Solutions** Governments and organizations advocate for renewable energy, carbon capture, and reforestation. International agreements like the Paris Agreement aim to curb global warming, but stronger action is needed to achieve sustainability.\n",
      "\n",
      "Query: Provide a summary of artificial intelligence, related material:\n",
      "## **The Evolution and Future of Artificial Intelligence**\n",
      "\n",
      "### **Introduction** Artificial Intelligence (AI) has transitioned from a niche academic discipline to a driving force of technological innovation. From its inception in the mid-20th century to its modern applications in machine learning, AI continues to shape the future of humanity.\n",
      "\n",
      "### **Historical Development** AI research began with Alan Turing’s foundational work in computing, leading to the first AI programs in the 1950s. Early systems like ELIZA demonstrated natural language processing capabilities, but progress was slow due to hardware limitations. The 1980s saw the rise of expert systems, while the 2000s ushered in the era of deep learning.\n",
      "### **Modern Applications** Today, AI powers everything from recommendation systems (Netflix, Amazon) to autonomous vehicles. Generative AI, like ChatGPT, is revolutionizing content creation, while AI in medicine enhances diagnostics and drug discovery.\n",
      "\n",
      "### **Ethical Concerns and Future Prospects** As AI becomes more advanced, ethical dilemmas emerge, including bias in algorithms, job displacement, and the potential dangers of artificial general intelligence (AGI). Future AI may enhance human cognition, solve global challenges, or even integrate with biological intelligence.\n",
      "\n",
      "Query: Provide a summary of vaccines, related material:\n",
      "### **Vaccines: A Key to Public Health**\n",
      "\n",
      "Vaccines are medical interventions designed to protect individuals from infectious diseases by stimulating the immune system to recognize and fight harmful pathogens. They contain weakened, inactivated, or genetically engineered components of a virus or bacteria, prompting the body to build immunity without causing illness.\n",
      "\n",
      "Vaccination has been instrumental in controlling and eradicating diseases such as polio, smallpox, and measles, saving millions of lives globally. Modern advancements in vaccine technology, such as mRNA vaccines, have accelerated the development of effective solutions for emerging diseases like COVID-19.\n",
      "In conclusion, vaccines are one of the most effective tools in modern medicine, providing long-term protection and ensuring healthier societies. Their continued development and accessibility remain essential for combating infectious diseases worldwide.\n"
     ]
    }
   ],
   "source": [
    "# interate over the test set and retrieve similar chunks\n",
    "for test_case in test_set:\n",
    "    query = test_case[\"prompt\"]\n",
    "    relevant_chunks = vector_store.similarity_search(query, k=2)\n",
    "\n",
    "    # Print retrieved chunks with source information\n",
    "    print(f\"\\nQuery: {query}, related material:\")\n",
    "    retrieved_data = \"\\n\".join([chunk.page_content for chunk in relevant_chunks])\n",
    "    print(retrieved_data)\n"
   ]
  }
 ],
 "metadata": {
  "kernelspec": {
   "display_name": "venv",
   "language": "python",
   "name": "python3"
  },
  "language_info": {
   "codemirror_mode": {
    "name": "ipython",
    "version": 3
   },
   "file_extension": ".py",
   "mimetype": "text/x-python",
   "name": "python",
   "nbconvert_exporter": "python",
   "pygments_lexer": "ipython3",
   "version": "3.12.9"
  }
 },
 "nbformat": 4,
 "nbformat_minor": 2
}
