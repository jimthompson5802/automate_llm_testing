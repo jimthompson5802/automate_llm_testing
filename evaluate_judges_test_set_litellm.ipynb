{
 "cells": [
  {
   "cell_type": "markdown",
   "metadata": {},
   "source": [
    "# Evaluate Test Set with Automated Evaluation with LiteLLM and Ollama\n",
    "\n",
    "Based on Python package [`judges`](https://pypi.org/project/judges/) \n",
    "\n",
    "github repo: [`judges`](https://github.com/quotient-ai/judges)\n",
    "\n",
    "Blog post: [**Introducing judges: A Library of Research-Backed LLM-as-a-Judge Evaluators**](https://www.quotientai.co/post/introducing-judges-a-library-of-research-backed-llm-as-a-judge-evaluators)"
   ]
  },
  {
   "cell_type": "code",
   "execution_count": 1,
   "metadata": {},
   "outputs": [],
   "source": [
    "import json\n",
    "import pandas as pd\n",
    "import random\n",
    "\n",
    "from langchain_community.vectorstores import FAISS\n",
    "from langchain_ollama import OllamaEmbeddings\n",
    "\n",
    "from judges.graders.response_quality import MTBenchChatBotResponseQuality\n",
    "from judges.graders.relevance import ReliableCIRelevance\n",
    "from judges.classifiers.correctness import PollMultihopCorrectness"
   ]
  },
  {
   "cell_type": "code",
   "execution_count": 2,
   "metadata": {},
   "outputs": [],
   "source": [
    "VECTOR_DB_FP = \"vector_stores/vector_store_faiss_ollama\"\n",
    "TEST_SET_FP = \"test_sets/baseline_test_set.json\""
   ]
  },
  {
   "cell_type": "code",
   "execution_count": 3,
   "metadata": {},
   "outputs": [],
   "source": [
    "# setup embeddings\n",
    "embeddings = OllamaEmbeddings(\n",
    "    model=\"nomic-embed-text\",\n",
    "    base_url=\"http://localhost:11434\"\n",
    ")"
   ]
  },
  {
   "cell_type": "code",
   "execution_count": 4,
   "metadata": {},
   "outputs": [],
   "source": [
    "# establish the judge\n",
    "judge_response_quality = MTBenchChatBotResponseQuality(model=\"ollama_chat/deepseek-r1:32b\")   # ollama_chat/llama2:13b  ollama_chat/gemma2:27b\n",
    "# judge_relevance = ReliableCIRelevance(model=\"gpt-4o\")   # causes error missing 'context' parameter\n",
    "judge_correctness = PollMultihopCorrectness(model=\"ollama_chat/deepseek-r1:32b\")     # ollama_chat/llama2:13b  ollama_chat/gemma2:27b\n",
    "\n",
    "judges = [judge_response_quality, judge_correctness]"
   ]
  },
  {
   "cell_type": "code",
   "execution_count": 5,
   "metadata": {},
   "outputs": [],
   "source": [
    "# restore vector store\n",
    "vector_store = FAISS.load_local(\n",
    "    VECTOR_DB_FP, embeddings, allow_dangerous_deserialization=True\n",
    ")\n"
   ]
  },
  {
   "cell_type": "code",
   "execution_count": 6,
   "metadata": {},
   "outputs": [
    {
     "data": {
      "text/plain": [
       "[{'prompt': 'Provide a summary of space exploration',\n",
       "  'target_response': '## **The Future of Space Exploration: Colonizing Mars and Beyond**  \\n\\n### **Introduction**  \\nSpace exploration has captured human imagination for centuries. With recent advancements in rocketry and planetary science, interplanetary colonization is no longer a dream but a plausible reality.  \\n\\n### **Milestones in Space Exploration**  \\nThe Space Race led to the first moon landing in 1969, and subsequent missions expanded our knowledge of the solar system. The International Space Station (ISS) demonstrated long-term human habitation in space, while private companies like SpaceX and Blue Origin have revitalized interest in space travel.  \\n\\n### **Colonizing Mars**  \\nMars presents the most feasible option for colonization due to its relative proximity and similarities to Earth. Challenges include radiation exposure, lack of a breathable atmosphere, and low temperatures. Technologies such as in-situ resource utilization (ISRU) and nuclear propulsion could make Mars colonization possible.  \\n\\n### **Beyond Mars: The Interstellar Future**  \\nLong-term space colonization may involve asteroid mining, O’Neill cylinders, and generational starships. Breakthrough propulsion systems, such as antimatter drives or warp technology, could one day allow humans to explore exoplanets.  '},\n",
       " {'prompt': 'Provide a summary of philosopy consciousness',\n",
       "  'target_response': '## **The Philosophy of Consciousness: Understanding the Mind**  \\n\\n### **Introduction**  \\nConsciousness remains one of philosophy\\'s greatest mysteries. Despite advances in neuroscience, defining and understanding subjective experience is still an ongoing debate.  \\n\\n### **Dualism vs. Materialism**  \\nPhilosophers like Descartes argued for dualism—the idea that the mind and body are separate entities. In contrast, materialists believe consciousness arises from physical processes in the brain. Modern neuroscience supports a materialist view, yet the \"hard problem of consciousness\" persists.  \\n\\n### **Theories of Consciousness**  \\n- **Integrated Information Theory (IIT):** Suggests consciousness arises from highly interconnected information processing.  \\n- **Global Workspace Theory (GWT):** Proposes that consciousness is a result of information being broadcast across different brain regions.  \\n- **Panpsychism:** The idea that all matter possesses some form of consciousness, a theory gaining traction among some modern thinkers.  \\n\\n### **Implications for AI and Ethics**  \\nIf consciousness emerges from computation, could AI become sentient? The ethical implications of conscious machines raise concerns about rights and treatment.  '},\n",
       " {'prompt': 'Provide a summary of ancient civilizations',\n",
       "  'target_response': '## **The Legacy of Ancient Civilizations**  \\n\\n### **Introduction**  \\nAncient civilizations laid the foundations for modern society through their contributions in governance, science, and culture. Examining their achievements helps us understand human progress.  \\n\\n### **Mesopotamia: The Cradle of Civilization**  \\nThe Sumerians developed the first writing system (cuneiform), advanced irrigation, and early forms of law. Hammurabi’s Code influenced modern legal systems.  \\n\\n### **Ancient Egypt: Engineering and Spirituality**  \\nThe Egyptians built the pyramids, demonstrating advanced engineering. Their medical practices, mathematics, and religious beliefs shaped later civilizations.  \\n\\n### **Classical Greece and Rome**  \\nGreek philosophers like Socrates, Plato, and Aristotle influenced Western thought. Rome’s contributions to governance, architecture, and law continue to impact modern societies.  \\n\\n### **The Maya and Other Pre-Columbian Civilizations**  \\nThe Maya excelled in astronomy, creating a sophisticated calendar system. The Inca built extensive road networks, and the Aztecs demonstrated remarkable urban planning.  \\n\\n### **Conclusion**  \\nBy studying ancient civilizations, we gain insights into technological advancements, governance, and societal evolution. Their legacies continue to shape modern humanity.  '},\n",
       " {'prompt': 'Provide a summary of climate change',\n",
       "  'target_response': '## **Climate Change and the Future of the Planet**  \\n\\n### **Introduction**  \\nClimate change is one of the most pressing global issues, driven by human activity, fossil fuel consumption, and deforestation. The consequences of rising temperatures, extreme weather events, and biodiversity loss threaten ecosystems and human societies.  \\n\\n### **Scientific Consensus and Causes**  \\nOver 97% of climate scientists agree that human activities are the primary cause of climate change. The greenhouse effect, where gases like CO₂ trap heat in the atmosphere, has intensified due to industrialization.  \\n\\n### **Effects of Climate Change**  \\n- Rising sea levels threaten coastal cities.  \\n- More frequent wildfires, hurricanes, and droughts.  \\n- Disruption of agriculture and food supplies.  \\n- Loss of biodiversity and habitat destruction.  \\n\\n### **Mitigation and Solutions**  \\nGovernments and organizations advocate for renewable energy, carbon capture, and reforestation. International agreements like the Paris Agreement aim to curb global warming, but stronger action is needed to achieve sustainability.  '},\n",
       " {'prompt': 'Provide a summary of artificial intelligence',\n",
       "  'target_response': '## **The Evolution and Future of Artificial Intelligence**  \\n\\n### **Introduction**  \\nArtificial Intelligence (AI) has transitioned from a niche academic discipline to a driving force of technological innovation. From its inception in the mid-20th century to its modern applications in machine learning, AI continues to shape the future of humanity.  \\n\\n### **Historical Development**  \\nAI research began with Alan Turing’s foundational work in computing, leading to the first AI programs in the 1950s. Early systems like ELIZA demonstrated natural language processing capabilities, but progress was slow due to hardware limitations. The 1980s saw the rise of expert systems, while the 2000s ushered in the era of deep learning.  \\n\\n### **Modern Applications**  \\nToday, AI powers everything from recommendation systems (Netflix, Amazon) to autonomous vehicles. Generative AI, like ChatGPT, is revolutionizing content creation, while AI in medicine enhances diagnostics and drug discovery.  \\n\\n### **Ethical Concerns and Future Prospects**  \\nAs AI becomes more advanced, ethical dilemmas emerge, including bias in algorithms, job displacement, and the potential dangers of artificial general intelligence (AGI). Future AI may enhance human cognition, solve global challenges, or even integrate with biological intelligence.  '},\n",
       " {'prompt': 'Provide a summary of vaccines',\n",
       "  'target_response': '### **Vaccines: A Key to Public Health**  \\n\\nVaccines are medical interventions designed to protect individuals from infectious diseases by stimulating the immune system to recognize and fight harmful pathogens. They contain weakened, inactivated, or genetically engineered components of a virus or bacteria, prompting the body to build immunity without causing illness.  \\n\\nVaccination has been instrumental in controlling and eradicating diseases such as polio, smallpox, and measles, saving millions of lives globally. Modern advancements in vaccine technology, such as mRNA vaccines, have accelerated the development of effective solutions for emerging diseases like COVID-19.  \\n\\nVaccines not only safeguard individuals but also contribute to **herd immunity**, reducing the spread of diseases within communities. Widespread immunization efforts are crucial for preventing outbreaks and protecting vulnerable populations, including young children, the elderly, and those with weakened immune systems.  \\n\\nDespite their proven benefits, vaccine hesitancy remains a challenge, often fueled by misinformation. Public health organizations and medical professionals emphasize the importance of vaccines in maintaining global health and preventing severe illness.  \\n\\nIn conclusion, vaccines are one of the most effective tools in modern medicine, providing long-term protection and ensuring healthier societies. Their continued development and accessibility remain essential for combating infectious diseases worldwide.'}]"
      ]
     },
     "execution_count": 6,
     "metadata": {},
     "output_type": "execute_result"
    }
   ],
   "source": [
    "# retriev test set\n",
    "with open(TEST_SET_FP, \"r\") as f:\n",
    "    test_set = json.load(f)\n",
    "\n",
    "test_set "
   ]
  },
  {
   "cell_type": "code",
   "execution_count": 7,
   "metadata": {},
   "outputs": [],
   "source": [
    "def evalutate_test_set(this_test_set, this_judge):\n",
    "    # interate over the test set and retrieve similar chunks\n",
    "    this_test_results = []\n",
    "    for this_test_case in this_test_set:\n",
    "        query = this_test_case[\"prompt\"]\n",
    "        relevant_chunks = vector_store.similarity_search(query, k=2)\n",
    "\n",
    "        # Print retrieved chunks with source information\n",
    "        print(f\"\\nQUERY: {query}, related material:\")\n",
    "        retrieved_data = \"\\n\".join([chunk.page_content for chunk in relevant_chunks])\n",
    "        print(f\"\\nRETRIEVED: {retrieved_data}\")\n",
    "\n",
    "        # judge the quality of the response\n",
    "        target_response = this_test_case[\"target_response\"]\n",
    "        print(f\"\\nTARGET: {target_response}\")\n",
    "        quality = this_judge.judge(query, retrieved_data, target_response)\n",
    "        print(f\"\\n>>>QUALITY: {quality}\")\n",
    "\n",
    "        this_test_result = quality.__dict__\n",
    "        this_test_result.update(this_test_case)\n",
    "        this_test_result[\"retrieved_data\"] = retrieved_data\n",
    "\n",
    "        this_test_results.append(this_test_result)\n",
    "\n",
    "    return this_test_results"
   ]
  },
  {
   "cell_type": "markdown",
   "metadata": {},
   "source": [
    "## Baseline Test Set"
   ]
  },
  {
   "cell_type": "code",
   "execution_count": 9,
   "metadata": {},
   "outputs": [
    {
     "name": "stdout",
     "output_type": "stream",
     "text": [
      "\n",
      "\n",
      ">>>RUNNING BASELINE TEST CASES FOR MTBenchChatBotResponseQuality\n",
      "\n",
      "QUERY: Provide a summary of space exploration, related material:\n",
      "\n",
      "RETRIEVED: ## **The Future of Space Exploration: Colonizing Mars and Beyond**\n",
      "\n",
      "### **Introduction** Space exploration has captured human imagination for centuries. With recent advancements in rocketry and planetary science, interplanetary colonization is no longer a dream but a plausible reality.\n",
      "\n",
      "### **Milestones in Space Exploration** The Space Race led to the first moon landing in 1969, and subsequent missions expanded our knowledge of the solar system. The International Space Station (ISS) demonstrated long-term human habitation in space, while private companies like SpaceX and Blue Origin have revitalized interest in space travel.\n",
      "### **Colonizing Mars** Mars presents the most feasible option for colonization due to its relative proximity and similarities to Earth. Challenges include radiation exposure, lack of a breathable atmosphere, and low temperatures. Technologies such as in-situ resource utilization (ISRU) and nuclear propulsion could make Mars colonization possible.\n",
      "\n",
      "### **Beyond Mars: The Interstellar Future** Long-term space colonization may involve asteroid mining, O’Neill cylinders, and generational starships. Breakthrough propulsion systems, such as antimatter drives or warp technology, could one day allow humans to explore exoplanets.\n",
      "\n",
      "TARGET: ## **The Future of Space Exploration: Colonizing Mars and Beyond**  \n",
      "\n",
      "### **Introduction**  \n",
      "Space exploration has captured human imagination for centuries. With recent advancements in rocketry and planetary science, interplanetary colonization is no longer a dream but a plausible reality.  \n",
      "\n",
      "### **Milestones in Space Exploration**  \n",
      "The Space Race led to the first moon landing in 1969, and subsequent missions expanded our knowledge of the solar system. The International Space Station (ISS) demonstrated long-term human habitation in space, while private companies like SpaceX and Blue Origin have revitalized interest in space travel.  \n",
      "\n",
      "### **Colonizing Mars**  \n",
      "Mars presents the most feasible option for colonization due to its relative proximity and similarities to Earth. Challenges include radiation exposure, lack of a breathable atmosphere, and low temperatures. Technologies such as in-situ resource utilization (ISRU) and nuclear propulsion could make Mars colonization possible.  \n",
      "\n",
      "### **Beyond Mars: The Interstellar Future**  \n",
      "Long-term space colonization may involve asteroid mining, O’Neill cylinders, and generational starships. Breakthrough propulsion systems, such as antimatter drives or warp technology, could one day allow humans to explore exoplanets.  \n"
     ]
    },
    {
     "ename": "KeyError",
     "evalue": "'REASONING'",
     "output_type": "error",
     "traceback": [
      "\u001b[31m---------------------------------------------------------------------------\u001b[39m",
      "\u001b[31mKeyError\u001b[39m                                  Traceback (most recent call last)",
      "\u001b[36mCell\u001b[39m\u001b[36m \u001b[39m\u001b[32mIn[9]\u001b[39m\u001b[32m, line 3\u001b[39m\n\u001b[32m      1\u001b[39m \u001b[38;5;28;01mfor\u001b[39;00m judge \u001b[38;5;129;01min\u001b[39;00m judges:\n\u001b[32m      2\u001b[39m     \u001b[38;5;28mprint\u001b[39m(\u001b[33mf\u001b[39m\u001b[33m\"\u001b[39m\u001b[38;5;130;01m\\n\u001b[39;00m\u001b[38;5;130;01m\\n\u001b[39;00m\u001b[33m>>>RUNNING BASELINE TEST CASES FOR \u001b[39m\u001b[38;5;132;01m{\u001b[39;00mjudge.\u001b[34m__class__\u001b[39m.\u001b[34m__name__\u001b[39m\u001b[38;5;132;01m}\u001b[39;00m\u001b[33m\"\u001b[39m)\n\u001b[32m----> \u001b[39m\u001b[32m3\u001b[39m     test_results = \u001b[43mevalutate_test_set\u001b[49m\u001b[43m(\u001b[49m\u001b[43mtest_set\u001b[49m\u001b[43m,\u001b[49m\u001b[43m \u001b[49m\u001b[43mjudge\u001b[49m\u001b[43m)\u001b[49m\n\u001b[32m      4\u001b[39m     test_df = pd.DataFrame(test_results)\n\u001b[32m      5\u001b[39m     \u001b[38;5;28mprint\u001b[39m(test_df.columns)\n",
      "\u001b[36mCell\u001b[39m\u001b[36m \u001b[39m\u001b[32mIn[7]\u001b[39m\u001b[32m, line 16\u001b[39m, in \u001b[36mevalutate_test_set\u001b[39m\u001b[34m(this_test_set, this_judge)\u001b[39m\n\u001b[32m     14\u001b[39m target_response = this_test_case[\u001b[33m\"\u001b[39m\u001b[33mtarget_response\u001b[39m\u001b[33m\"\u001b[39m]\n\u001b[32m     15\u001b[39m \u001b[38;5;28mprint\u001b[39m(\u001b[33mf\u001b[39m\u001b[33m\"\u001b[39m\u001b[38;5;130;01m\\n\u001b[39;00m\u001b[33mTARGET: \u001b[39m\u001b[38;5;132;01m{\u001b[39;00mtarget_response\u001b[38;5;132;01m}\u001b[39;00m\u001b[33m\"\u001b[39m)\n\u001b[32m---> \u001b[39m\u001b[32m16\u001b[39m quality = \u001b[43mthis_judge\u001b[49m\u001b[43m.\u001b[49m\u001b[43mjudge\u001b[49m\u001b[43m(\u001b[49m\u001b[43mquery\u001b[49m\u001b[43m,\u001b[49m\u001b[43m \u001b[49m\u001b[43mretrieved_data\u001b[49m\u001b[43m,\u001b[49m\u001b[43m \u001b[49m\u001b[43mtarget_response\u001b[49m\u001b[43m)\u001b[49m\n\u001b[32m     17\u001b[39m \u001b[38;5;28mprint\u001b[39m(\u001b[33mf\u001b[39m\u001b[33m\"\u001b[39m\u001b[38;5;130;01m\\n\u001b[39;00m\u001b[33m>>>QUALITY: \u001b[39m\u001b[38;5;132;01m{\u001b[39;00mquality\u001b[38;5;132;01m}\u001b[39;00m\u001b[33m\"\u001b[39m)\n\u001b[32m     19\u001b[39m this_test_result = quality.\u001b[34m__dict__\u001b[39m\n",
      "\u001b[36mFile \u001b[39m\u001b[32m~/Desktop/automate_llm_testing/venv/lib/python3.12/site-packages/judges/graders/response_quality.py:72\u001b[39m, in \u001b[36mMTBenchChatBotResponseQuality.judge\u001b[39m\u001b[34m(self, input, output, expected)\u001b[39m\n\u001b[32m     55\u001b[39m \u001b[38;5;66;03m# Construct the user prompt with the provided exact template\u001b[39;00m\n\u001b[32m     56\u001b[39m user_prompt = dedent(\n\u001b[32m     57\u001b[39m     \u001b[33mf\u001b[39m\u001b[33m\"\"\"\u001b[39m\n\u001b[32m     58\u001b[39m \u001b[33m    [System]\u001b[39m\n\u001b[32m   (...)\u001b[39m\u001b[32m     69\u001b[39m \u001b[33m    \u001b[39m\u001b[33m\"\"\"\u001b[39m\n\u001b[32m     70\u001b[39m )\n\u001b[32m---> \u001b[39m\u001b[32m72\u001b[39m reasoning, score = \u001b[38;5;28;43mself\u001b[39;49m\u001b[43m.\u001b[49m\u001b[43m_judge\u001b[49m\u001b[43m(\u001b[49m\n\u001b[32m     73\u001b[39m \u001b[43m    \u001b[49m\u001b[43muser_prompt\u001b[49m\u001b[43m=\u001b[49m\u001b[43muser_prompt\u001b[49m\u001b[43m,\u001b[49m\n\u001b[32m     74\u001b[39m \u001b[43m    \u001b[49m\u001b[43msystem_prompt\u001b[49m\u001b[43m=\u001b[49m\u001b[43msystem_prompt\u001b[49m\u001b[43m,\u001b[49m\n\u001b[32m     75\u001b[39m \u001b[43m\u001b[49m\u001b[43m)\u001b[49m\n\u001b[32m     77\u001b[39m \u001b[38;5;28;01mreturn\u001b[39;00m Judgment(reasoning=reasoning, score=score)\n",
      "\u001b[36mFile \u001b[39m\u001b[32m~/Desktop/automate_llm_testing/venv/lib/python3.12/site-packages/judges/base.py:147\u001b[39m, in \u001b[36mBaseJudge._judge\u001b[39m\u001b[34m(self, user_prompt, system_prompt)\u001b[39m\n\u001b[32m    137\u001b[39m completion = get_completion(\n\u001b[32m    138\u001b[39m     model=\u001b[38;5;28mself\u001b[39m.model,\n\u001b[32m    139\u001b[39m     messages=messages,\n\u001b[32m   (...)\u001b[39m\u001b[32m    144\u001b[39m     response_format={\u001b[33m\"\u001b[39m\u001b[33mtype\u001b[39m\u001b[33m\"\u001b[39m: \u001b[33m\"\u001b[39m\u001b[33mjson_object\u001b[39m\u001b[33m\"\u001b[39m}\n\u001b[32m    145\u001b[39m )\n\u001b[32m    146\u001b[39m data = json.loads(completion.choices[\u001b[32m0\u001b[39m].message.content)\n\u001b[32m--> \u001b[39m\u001b[32m147\u001b[39m reasoning = \u001b[43mdata\u001b[49m\u001b[43m[\u001b[49m\u001b[33;43m\"\u001b[39;49m\u001b[33;43mREASONING\u001b[39;49m\u001b[33;43m\"\u001b[39;49m\u001b[43m]\u001b[49m\n\u001b[32m    148\u001b[39m score = data[\u001b[33m\"\u001b[39m\u001b[33mSCORE\u001b[39m\u001b[33m\"\u001b[39m]\n\u001b[32m    149\u001b[39m \u001b[38;5;28;01mreturn\u001b[39;00m reasoning, score\n",
      "\u001b[31mKeyError\u001b[39m: 'REASONING'"
     ]
    }
   ],
   "source": [
    "for judge in judges:\n",
    "    print(f\"\\n\\n>>>RUNNING BASELINE TEST CASES FOR {judge.__class__.__name__}\")\n",
    "    test_results = evalutate_test_set(test_set, judge)\n",
    "    test_df = pd.DataFrame(test_results)\n",
    "    print(test_df.columns)\n",
    "    # change order of columns\n",
    "    test_df = test_df[\n",
    "        [\n",
    "            \"prompt\",\n",
    "            \"score\",\n",
    "            \"retrieved_data\",\n",
    "            \"target_response\",\n",
    "            \"reasoning\",\n",
    "        ]\n",
    "    ]\n",
    "    test_df[\"judge\"] = judge.__class__.__name__\n",
    "\n",
    "    print(test_df)\n"
   ]
  },
  {
   "cell_type": "markdown",
   "metadata": {},
   "source": [
    "## Reverse the test set target responses and evaluate with judges\n",
    "\n"
   ]
  },
  {
   "cell_type": "code",
   "execution_count": null,
   "metadata": {},
   "outputs": [],
   "source": [
    "prompts = [d[\"prompt\"] for d in test_set]\n",
    "target_responses = [d[\"target_response\"] for d in test_set]\n",
    "\n",
    "# revserse the order of the target responses\n",
    "target_responses = target_responses[::-1]\n",
    "\n",
    "# construct the permuted test set\n",
    "permuted_test_set = [{\"prompt\": p, \"target_response\": r} for p, r in zip(prompts, target_responses)]\n",
    "\n",
    "permuted_test_set"
   ]
  },
  {
   "cell_type": "code",
   "execution_count": null,
   "metadata": {},
   "outputs": [],
   "source": [
    "for judge in judges:\n",
    "    print(f\"\\n\\n>>>RUNNING REVERSED TEST CASES FOR {judge.__class__.__name__}\")\n",
    "\n",
    "    permuted_test_results = evalutate_test_set(permuted_test_set, judge)\n",
    "    permuted_test_df = pd.DataFrame(permuted_test_results)\n",
    "    print(permuted_test_df.columns)\n",
    "    # change order of columns\n",
    "    permuted_test_df = permuted_test_df[\n",
    "        [\n",
    "            \"prompt\",\n",
    "            \"score\",\n",
    "            \"retrieved_data\",\n",
    "            \"target_response\",\n",
    "            \"reasoning\",\n",
    "        ]\n",
    "    ]\n",
    "\n",
    "    print(permuted_test_df)\n"
   ]
  }
 ],
 "metadata": {
  "kernelspec": {
   "display_name": "venv",
   "language": "python",
   "name": "python3"
  },
  "language_info": {
   "codemirror_mode": {
    "name": "ipython",
    "version": 3
   },
   "file_extension": ".py",
   "mimetype": "text/x-python",
   "name": "python",
   "nbconvert_exporter": "python",
   "pygments_lexer": "ipython3",
   "version": "3.12.9"
  }
 },
 "nbformat": 4,
 "nbformat_minor": 2
}
