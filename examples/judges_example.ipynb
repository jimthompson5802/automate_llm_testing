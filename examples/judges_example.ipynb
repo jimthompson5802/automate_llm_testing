{
 "cells": [
  {
   "cell_type": "code",
   "execution_count": 8,
   "metadata": {},
   "outputs": [],
   "source": [
    "import json\n",
    "import textwrap\n",
    "import random\n",
    "import pandas as pd\n",
    "import random\n",
    "from langchain_openai import OpenAIEmbeddings\n",
    "from langchain_community.vectorstores import FAISS\n",
    "from langchain_openai import OpenAIEmbeddings\n",
    "\n",
    "from judges.graders.response_quality import MTBenchChatBotResponseQuality\n",
    "from judges.graders.relevance import ReliableCIRelevance\n",
    "from judges.classifiers.correctness import PollMultihopCorrectness"
   ]
  },
  {
   "cell_type": "code",
   "execution_count": 9,
   "metadata": {},
   "outputs": [],
   "source": [
    "PROMPT = \"provide a one paragraph summary of artificial intelligence\"\n",
    "\n",
    "REPSPONSE_TEXT = textwrap.dedent(\n",
    "    \"\"\"\"\n",
    "    Artificial Intelligence (AI) is a branch of computer science focused on creating machines that can perform tasks requiring human-like intelligence, \\nsuch as learning, reasoning, problem-solving, perception, and language understanding. It encompasses a wide range of techniques, including machine \\nlearning, neural networks, and deep learning, which enable systems to recognize patterns, make decisions, and improve over time. AI is applied across \\nvarious fields, from healthcare and finance to robotics and entertainment, driving innovation and efficiency. While AI presents significant \\nopportunities, it also raises ethical concerns related to bias, privacy, and job displacement, necessitating careful regulation and responsible \\ndevelopment.\"\n",
    "    \"\"\"\n",
    ")\n",
    "\n",
    "REFERENCE_TEXT = textwrap.dedent(\n",
    "    \"\"\"\"\n",
    "    Artificial Intelligence (AI) refers to the development of computer systems that can perform tasks typically requiring human intelligence, such as \\nlearning, reasoning, problem-solving, perception, and natural language understanding. AI is powered by techniques like machine learning, deep \\nlearning, and neural networks, enabling it to analyze vast amounts of data, recognize patterns, and make autonomous decisions. While AI has \\ntransformative applications in fields like healthcare, finance, and automation, it also raises major considerations. Ethical concerns include bias in \\nalgorithms, data privacy, and the potential for job displacement. Additionally, ensuring AI systems are transparent, explainable, and aligned with \\nhuman values is crucial for responsible development and deployment.\"\n",
    "    \"\"\"\n",
    ")"
   ]
  },
  {
   "cell_type": "markdown",
   "metadata": {},
   "source": [
    "## Helper Functions"
   ]
  },
  {
   "cell_type": "code",
   "execution_count": 10,
   "metadata": {},
   "outputs": [],
   "source": [
    "# function to read in a paragraph and scrambe the words in each sentence\n",
    "def scramble_paragraph(paragraph):\n",
    "    sentences = paragraph.split(\".\")\n",
    "    scrambled_sentences = []\n",
    "    for sentence in sentences:\n",
    "        words = sentence.split(\" \")\n",
    "        random.shuffle(words)\n",
    "        scrambled_sentence = \" \".join(words)\n",
    "        scrambled_sentences.append(scrambled_sentence)\n",
    "    scrambled_paragraph = \". \".join(scrambled_sentences)\n",
    "    return scrambled_paragraph\n",
    "\n",
    "\n",
    "# function to print a paragraph with out line breaks\n",
    "# into lines of about 80 characters make sure to break at a white space\n",
    "def print_paragraph(paragraph):\n",
    "    lines = textwrap.wrap(paragraph, width=100)\n",
    "    for line in lines:\n",
    "        print(line)\n",
    "\n",
    "# function that takes in a evaluator objecct and paragraph and\n",
    "# runs the evaluator on the paragraph and prints the results\n",
    "# then runs the evaluaton on the scambled paragraph and prints the results\n",
    "def evaluate_paragraph(evaluator, prompt, paragraph, reference=None):\n",
    "    print(f\"prompt: {prompt}\")\n",
    "    print(\"Evaluating paragraph:\")\n",
    "    print_paragraph(paragraph)\n",
    "    print()\n",
    "\n",
    "    if reference:\n",
    "        print(\"Evaluating with reference:\")\n",
    "        print_paragraph(reference)\n",
    "        print()\n",
    "        results = evaluator.judge(prompt, paragraph, expected=reference)\n",
    "    else:\n",
    "        print(\"Evaluating without reference\")\n",
    "        print()\n",
    "        results = evaluator.judge(prompt, paragraph)\n",
    "        \n",
    "    print(f\"SCORE: {results.score}\")\n",
    "    print(f\"FEEDBACK:\")\n",
    "    print_paragraph(results.reasoning)\n",
    "    \n"
   ]
  },
  {
   "cell_type": "code",
   "execution_count": 11,
   "metadata": {},
   "outputs": [
    {
     "name": "stdout",
     "output_type": "stream",
     "text": [
      "\"\n",
      "    Artificial Intelligence (AI) is a branch of computer science focused on creating machines that can perform tasks requiring human-like intelligence, \n",
      "such as learning, reasoning, problem-solving, perception, and language understanding. It encompasses a wide range of techniques, including machine \n",
      "learning, neural networks, and deep learning, which enable systems to recognize patterns, make decisions, and improve over time. AI is applied across \n",
      "various fields, from healthcare and finance to robotics and entertainment, driving innovation and efficiency. While AI presents significant \n",
      "opportunities, it also raises ethical concerns related to bias, privacy, and job displacement, necessitating careful regulation and responsible \n",
      "development.\"\n",
      "\n"
     ]
    }
   ],
   "source": [
    "print(REPSPONSE_TEXT)"
   ]
  },
  {
   "cell_type": "code",
   "execution_count": 12,
   "metadata": {},
   "outputs": [
    {
     "name": "stdout",
     "output_type": "stream",
     "text": [
      "is  that can computer human-like tasks and science \n",
      "such requiring learning, reasoning, a creating of understanding perform on Intelligence   \"\n",
      " language focused as machines problem-solving, Artificial branch (AI) perception, intelligence,. It patterns, over decisions, machine a encompasses systems to and which and improve of including learning, networks, \n",
      "learning, make neural recognize enable techniques,  deep time range wide. and driving to and from is AI fields, and innovation efficiency applied healthcare across entertainment, finance \n",
      "various robotics . also significant responsible displacement, AI \n",
      "development bias, raises careful it \n",
      "opportunities, presents concerns and regulation ethical necessitating  related to While job privacy, and. \"\n",
      "\n"
     ]
    }
   ],
   "source": [
    "print(scramble_paragraph(REPSPONSE_TEXT))"
   ]
  },
  {
   "cell_type": "markdown",
   "metadata": {},
   "source": [
    "## Response Quality"
   ]
  },
  {
   "cell_type": "code",
   "execution_count": 13,
   "metadata": {},
   "outputs": [
    {
     "name": "stdout",
     "output_type": "stream",
     "text": [
      "prompt: provide a one paragraph summary of artificial intelligence\n",
      "Evaluating paragraph:\n",
      "\"     Artificial Intelligence (AI) is a branch of computer science focused on creating machines that\n",
      "can perform tasks requiring human-like intelligence,  such as learning, reasoning, problem-solving,\n",
      "perception, and language understanding. It encompasses a wide range of techniques, including machine\n",
      "learning, neural networks, and deep learning, which enable systems to recognize patterns, make\n",
      "decisions, and improve over time. AI is applied across  various fields, from healthcare and finance\n",
      "to robotics and entertainment, driving innovation and efficiency. While AI presents significant\n",
      "opportunities, it also raises ethical concerns related to bias, privacy, and job displacement,\n",
      "necessitating careful regulation and responsible  development.\"\n",
      "\n",
      "Evaluating without reference\n",
      "\n",
      "SCORE: 9\n",
      "FEEDBACK:\n",
      "The response provides a concise and informative summary of artificial intelligence. It effectively\n",
      "touches on essential aspects, including the definition of AI, its techniques (like machine learning,\n",
      "neural networks, and deep learning), and fields of application such as healthcare and finance. It\n",
      "also addresses both the potential benefits of AI and the ethical concerns it raises, showing a\n",
      "balanced perspective. The summary is relevant and accurate, capturing the core elements of AI\n",
      "research and application. However, given the brevity of the prompt, it doesn’t delve deeply into\n",
      "these aspects, which may be a limitation for someone seeking a more detailed explanation. Still, the\n",
      "paragraph maintains a sufficient level of detail and relevance for a general introductory summary.\n",
      "\n",
      "--------------------------------------------------\n",
      "\n",
      "prompt: provide a one paragraph summary of artificial intelligence\n",
      "Evaluating paragraph:\n",
      "perception, of understanding  such a that learning, computer science Artificial problem-solving,\n",
      "creating and as reasoning, human-like perform machines language branch can intelligence, focused \"\n",
      "(AI) is requiring on Intelligence   tasks. decisions,  learning, and including to encompasses over\n",
      "networks, systems patterns, machine recognize It of techniques,  neural range make wide improve\n",
      "learning, a which time and deep enable. and driving robotics across and is healthcare applied\n",
      "entertainment, innovation finance efficiency AI from  various fields,  to and. While responsible\n",
      "privacy, and bias, presents regulation significant concerns  opportunities, and raises related also\n",
      "careful ethical  development necessitating it AI to job displacement,. \"\n",
      "\n",
      "Evaluating without reference\n",
      "\n",
      "SCORE: 2\n",
      "FEEDBACK:\n",
      "The response attempts to provide a summary of artificial intelligence but fails to deliver coherent\n",
      "and grammatically correct information. The text is disjointed and lacks clear structure, making it\n",
      "difficult to understand. Key concepts like perception, reasoning, learning, and application areas\n",
      "such as finance and healthcare are mentioned, but they are presented in a fragmented manner.\n",
      "Additionally, there is mention of ethical concerns like privacy, bias, and job displacement, which\n",
      "are relevant to AI. However, the lack of fluency and coherence significantly undermines the\n",
      "perceived depth, accuracy, and helpfulness of the response. Creativity and level of detail are also\n",
      "negatively impacted by the incoherent presentation.\n"
     ]
    }
   ],
   "source": [
    "judge = MTBenchChatBotResponseQuality(model=\"gpt-4o\")\n",
    "evaluate_paragraph(judge, PROMPT, REPSPONSE_TEXT)\n",
    "print(\"\\n--------------------------------------------------\\n\")\n",
    "evaluate_paragraph(judge, PROMPT, scramble_paragraph(REPSPONSE_TEXT))"
   ]
  },
  {
   "cell_type": "markdown",
   "metadata": {},
   "source": [
    "## RESPONSE CORRECTNESS"
   ]
  },
  {
   "cell_type": "code",
   "execution_count": 14,
   "metadata": {},
   "outputs": [
    {
     "name": "stdout",
     "output_type": "stream",
     "text": [
      "prompt: provide a one paragraph summary of artificial intelligence\n",
      "Evaluating paragraph:\n",
      "\"     Artificial Intelligence (AI) is a branch of computer science focused on creating machines that\n",
      "can perform tasks requiring human-like intelligence,  such as learning, reasoning, problem-solving,\n",
      "perception, and language understanding. It encompasses a wide range of techniques, including machine\n",
      "learning, neural networks, and deep learning, which enable systems to recognize patterns, make\n",
      "decisions, and improve over time. AI is applied across  various fields, from healthcare and finance\n",
      "to robotics and entertainment, driving innovation and efficiency. While AI presents significant\n",
      "opportunities, it also raises ethical concerns related to bias, privacy, and job displacement,\n",
      "necessitating careful regulation and responsible  development.\"\n",
      "\n",
      "Evaluating with reference:\n",
      "\"     Artificial Intelligence (AI) refers to the development of computer systems that can perform\n",
      "tasks typically requiring human intelligence, such as  learning, reasoning, problem-solving,\n",
      "perception, and natural language understanding. AI is powered by techniques like machine learning,\n",
      "deep  learning, and neural networks, enabling it to analyze vast amounts of data, recognize\n",
      "patterns, and make autonomous decisions. While AI has  transformative applications in fields like\n",
      "healthcare, finance, and automation, it also raises major considerations. Ethical concerns include\n",
      "bias in  algorithms, data privacy, and the potential for job displacement. Additionally, ensuring AI\n",
      "systems are transparent, explainable, and aligned with  human values is crucial for responsible\n",
      "development and deployment.\"\n",
      "\n",
      "SCORE: True\n",
      "FEEDBACK:\n",
      "The provided answer and the reference answer both describe AI as a branch of computer science\n",
      "focused on creating machines capable of human-like tasks, such as learning, reasoning, problem-\n",
      "solving, perception, and language understanding. Both mention techniques such as machine learning,\n",
      "deep learning, and neural networks. They also cover applications across various fields and mention\n",
      "ethical concerns such as bias, privacy, and job displacement. Although the exact wording and\n",
      "structure differ, the key points and concepts are accurately captured in the provided answer.\n",
      "\n",
      "--------------------------------------------------\n",
      "\n",
      "prompt: provide a one paragraph summary of artificial intelligence\n",
      "Evaluating paragraph:\n",
      "can language  requiring creating Intelligence  problem-solving, on that machines and  such is a of\n",
      "computer Artificial intelligence, understanding perception, perform science reasoning,  tasks human-\n",
      "like branch (AI) learning, as \"  focused. over It recognize of and which  neural decisions,\n",
      "networks, machine improve time learning, wide encompasses a including  learning, make and range to\n",
      "enable systems deep techniques, patterns,. efficiency driving AI innovation fields, and  various\n",
      "from healthcare is applied across robotics finance entertainment, and to and. privacy,  development\n",
      "related also responsible bias, to job and AI regulation ethical concerns While  opportunities,\n",
      "careful significant and  presents necessitating raises displacement, it. \"\n",
      "\n",
      "Evaluating with reference:\n",
      "\"     Artificial Intelligence (AI) refers to the development of computer systems that can perform\n",
      "tasks typically requiring human intelligence, such as  learning, reasoning, problem-solving,\n",
      "perception, and natural language understanding. AI is powered by techniques like machine learning,\n",
      "deep  learning, and neural networks, enabling it to analyze vast amounts of data, recognize\n",
      "patterns, and make autonomous decisions. While AI has  transformative applications in fields like\n",
      "healthcare, finance, and automation, it also raises major considerations. Ethical concerns include\n",
      "bias in  algorithms, data privacy, and the potential for job displacement. Additionally, ensuring AI\n",
      "systems are transparent, explainable, and aligned with  human values is crucial for responsible\n",
      "development and deployment.\"\n",
      "\n",
      "SCORE: False\n",
      "FEEDBACK:\n",
      "The Provided Answer is jumbled and lacks coherent structure. It contains fragments of relevant AI\n",
      "concepts like 'problem-solving', 'machine learning', and 'ethical concerns', but it does not form a\n",
      "concise, readable paragraph. The Reference Answer is a coherent, structured paragraph that clearly\n",
      "and comprehensively summarizes AI. Due to the lack of clarity, structure, and comprehensiveness in\n",
      "the Provided Answer compared to the Reference Answer, it cannot be considered correct.\n",
      "\n",
      "--------------------------------------------------\n",
      "\n",
      "prompt: provide a one paragraph summary of artificial intelligence\n",
      "Evaluating paragraph:\n",
      " learning, can and (AI) problem-solving, perception, of language focused creating understanding is a\n",
      "intelligence, human-like reasoning, machines \"  computer branch on  tasks  such  Artificial\n",
      "Intelligence that as perform science requiring. recognize and decisions, encompasses It systems a\n",
      "wide make improve networks, machine time patterns, techniques, including of range neural deep which\n",
      "learning,  enable  learning, over and to. and applied fields, innovation AI entertainment,  and\n",
      "across efficiency healthcare from driving finance robotics to  various is and. also  related\n",
      "significant careful it displacement, concerns and bias, AI raises necessitating privacy, presents\n",
      "ethical  opportunities, regulation responsible job While  development and to. \"\n",
      "\n",
      "Evaluating without reference\n",
      "\n",
      "SCORE: False\n",
      "FEEDBACK:\n",
      "The provided answer attempts to summarize artificial intelligence but is nonsensical and lacks\n",
      "cohesion. It appears to be a random jumble of words and phrases related to artificial intelligence\n",
      "without forming a coherent paragraph. Therefore, it does not effectively answer the question asked.\n"
     ]
    }
   ],
   "source": [
    "judge = PollMultihopCorrectness(model=\"gpt-4o\")\n",
    "evaluate_paragraph(judge, PROMPT, REPSPONSE_TEXT, reference=REFERENCE_TEXT)\n",
    "print(\"\\n--------------------------------------------------\\n\")\n",
    "evaluate_paragraph(judge, PROMPT, scramble_paragraph(REPSPONSE_TEXT), reference=REFERENCE_TEXT)\n",
    "print(\"\\n--------------------------------------------------\\n\")\n",
    "evaluate_paragraph(judge, PROMPT, scramble_paragraph(REPSPONSE_TEXT))"
   ]
  },
  {
   "cell_type": "markdown",
   "metadata": {},
   "source": [
    "## Revelance"
   ]
  },
  {
   "cell_type": "code",
   "execution_count": 16,
   "metadata": {},
   "outputs": [
    {
     "name": "stdout",
     "output_type": "stream",
     "text": [
      "prompt: provide a one paragraph summary of artificial intelligence\n",
      "Evaluating paragraph:\n",
      "\"     Artificial Intelligence (AI) is a branch of computer science focused on creating machines that\n",
      "can perform tasks requiring human-like intelligence,  such as learning, reasoning, problem-solving,\n",
      "perception, and language understanding. It encompasses a wide range of techniques, including machine\n",
      "learning, neural networks, and deep learning, which enable systems to recognize patterns, make\n",
      "decisions, and improve over time. AI is applied across  various fields, from healthcare and finance\n",
      "to robotics and entertainment, driving innovation and efficiency. While AI presents significant\n",
      "opportunities, it also raises ethical concerns related to bias, privacy, and job displacement,\n",
      "necessitating careful regulation and responsible  development.\"\n",
      "\n",
      "Evaluating without reference\n",
      "\n"
     ]
    },
    {
     "ename": "NameError",
     "evalue": "name 'context' is not defined",
     "output_type": "error",
     "traceback": [
      "\u001b[31m---------------------------------------------------------------------------\u001b[39m",
      "\u001b[31mNameError\u001b[39m                                 Traceback (most recent call last)",
      "\u001b[36mCell\u001b[39m\u001b[36m \u001b[39m\u001b[32mIn[16]\u001b[39m\u001b[32m, line 2\u001b[39m\n\u001b[32m      1\u001b[39m judge = ReliableCIRelevance(model=\u001b[33m\"\u001b[39m\u001b[33mgpt-4o\u001b[39m\u001b[33m\"\u001b[39m)\n\u001b[32m----> \u001b[39m\u001b[32m2\u001b[39m \u001b[43mevaluate_paragraph\u001b[49m\u001b[43m(\u001b[49m\u001b[43mjudge\u001b[49m\u001b[43m,\u001b[49m\u001b[43m \u001b[49m\u001b[43mPROMPT\u001b[49m\u001b[43m,\u001b[49m\u001b[43m \u001b[49m\u001b[43mREPSPONSE_TEXT\u001b[49m\u001b[43m)\u001b[49m\n",
      "\u001b[36mCell\u001b[39m\u001b[36m \u001b[39m\u001b[32mIn[10]\u001b[39m\u001b[32m, line 38\u001b[39m, in \u001b[36mevaluate_paragraph\u001b[39m\u001b[34m(evaluator, prompt, paragraph, reference)\u001b[39m\n\u001b[32m     36\u001b[39m     \u001b[38;5;28mprint\u001b[39m(\u001b[33m\"\u001b[39m\u001b[33mEvaluating without reference\u001b[39m\u001b[33m\"\u001b[39m)\n\u001b[32m     37\u001b[39m     \u001b[38;5;28mprint\u001b[39m()\n\u001b[32m---> \u001b[39m\u001b[32m38\u001b[39m     results = \u001b[43mevaluator\u001b[49m\u001b[43m.\u001b[49m\u001b[43mjudge\u001b[49m\u001b[43m(\u001b[49m\u001b[43mprompt\u001b[49m\u001b[43m,\u001b[49m\u001b[43m \u001b[49m\u001b[43mparagraph\u001b[49m\u001b[43m)\u001b[49m\n\u001b[32m     40\u001b[39m \u001b[38;5;28mprint\u001b[39m(\u001b[33mf\u001b[39m\u001b[33m\"\u001b[39m\u001b[33mSCORE: \u001b[39m\u001b[38;5;132;01m{\u001b[39;00mresults.score\u001b[38;5;132;01m}\u001b[39;00m\u001b[33m\"\u001b[39m)\n\u001b[32m     41\u001b[39m \u001b[38;5;28mprint\u001b[39m(\u001b[33mf\u001b[39m\u001b[33m\"\u001b[39m\u001b[33mFEEDBACK:\u001b[39m\u001b[33m\"\u001b[39m)\n",
      "\u001b[36mFile \u001b[39m\u001b[32m~/Desktop/automate_llm_testing/venv/lib/python3.12/site-packages/judges/graders/relevance.py:58\u001b[39m, in \u001b[36mReliableCIRelevance.judge\u001b[39m\u001b[34m(self, input, output, expected)\u001b[39m\n\u001b[32m     45\u001b[39m \u001b[38;5;250m\u001b[39m\u001b[33;03m\"\"\"\u001b[39;00m\n\u001b[32m     46\u001b[39m \u001b[33;03mJudge the input and return a verdict.\u001b[39;00m\n\u001b[32m     47\u001b[39m \u001b[33;03m\"\"\"\u001b[39;00m\n\u001b[32m     48\u001b[39m system_prompt = \u001b[38;5;28;01mNone\u001b[39;00m\n\u001b[32m     49\u001b[39m user_prompt = dedent(\n\u001b[32m     50\u001b[39m     \u001b[33mf\u001b[39m\u001b[33m\"\"\"\u001b[39m\n\u001b[32m     51\u001b[39m \u001b[33mAssess the relevance of the PASSAGE to the QUERY on a four-point scale:\u001b[39m\n\u001b[32m     52\u001b[39m \u001b[33m[0] Irrelevant: The passage has nothing to do with the query.\u001b[39m\n\u001b[32m     53\u001b[39m \u001b[33m[1] Related: The passage seems related to the query but does not answer it.\u001b[39m\n\u001b[32m     54\u001b[39m \u001b[33m[2] Highly relevant: The passage has some answer for the query, but the answer may be a bit unclear or hidden amongst extraneous information.\u001b[39m\n\u001b[32m     55\u001b[39m \u001b[33m[3] Perfectly relevant: The passage is dedicated to the query and contains the exact answer.\u001b[39m\n\u001b[32m     56\u001b[39m \u001b[33m\u001b[39m\n\u001b[32m     57\u001b[39m \u001b[33mQuery: \u001b[39m\u001b[38;5;132;01m{\u001b[39;00m\u001b[38;5;28minput\u001b[39m\u001b[38;5;132;01m}\u001b[39;00m\n\u001b[32m---> \u001b[39m\u001b[32m58\u001b[39m \u001b[33mPassage: \u001b[39m\u001b[38;5;132;01m{\u001b[39;00m\u001b[43mcontext\u001b[49m\u001b[38;5;132;01m}\u001b[39;00m\n\u001b[32m     59\u001b[39m \u001b[33mRelevance:\u001b[39m\n\u001b[32m     60\u001b[39m \u001b[33m\u001b[39m\u001b[33m\"\"\"\u001b[39m)\n\u001b[32m     61\u001b[39m reasoning, score = \u001b[38;5;28mself\u001b[39m._judge(\n\u001b[32m     62\u001b[39m     user_prompt=user_prompt,\n\u001b[32m     63\u001b[39m     system_prompt=system_prompt,\n\u001b[32m     64\u001b[39m )\n\u001b[32m     65\u001b[39m \u001b[38;5;28;01mreturn\u001b[39;00m Judgment(reasoning=reasoning, score=score)\n",
      "\u001b[31mNameError\u001b[39m: name 'context' is not defined"
     ]
    }
   ],
   "source": [
    "judge = ReliableCIRelevance(model=\"gpt-4o\")\n",
    "evaluate_paragraph(judge, PROMPT, REPSPONSE_TEXT)\n",
    "\n"
   ]
  }
 ],
 "metadata": {
  "kernelspec": {
   "display_name": "venv",
   "language": "python",
   "name": "python3"
  },
  "language_info": {
   "codemirror_mode": {
    "name": "ipython",
    "version": 3
   },
   "file_extension": ".py",
   "mimetype": "text/x-python",
   "name": "python",
   "nbconvert_exporter": "python",
   "pygments_lexer": "ipython3",
   "version": "3.12.9"
  }
 },
 "nbformat": 4,
 "nbformat_minor": 2
}
