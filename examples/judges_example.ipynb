{
 "cells": [
  {
   "cell_type": "code",
   "execution_count": 1,
   "metadata": {},
   "outputs": [],
   "source": [
    "import json\n",
    "import textwrap\n",
    "import random\n",
    "import pandas as pd\n",
    "import random\n",
    "from langchain_openai import OpenAIEmbeddings\n",
    "from langchain_community.vectorstores import FAISS\n",
    "from langchain_openai import OpenAIEmbeddings\n",
    "\n",
    "from judges.graders.response_quality import MTBenchChatBotResponseQuality\n",
    "from judges.graders.relevance import ReliableCIRelevance\n",
    "from judges.classifiers.correctness import PollMultihopCorrectness"
   ]
  },
  {
   "cell_type": "code",
   "execution_count": 2,
   "metadata": {},
   "outputs": [],
   "source": [
    "PROMPT = \"provide a one paragraph summary of artificial intelligence\"\n",
    "\n",
    "REPSPONSE_TEXT = textwrap.dedent(\n",
    "    \"\"\"\n",
    "    Artificial Intelligence (AI) is a branch of computer science focused on creating machines that can perform tasks requiring human-like intelligence, \\nsuch as learning, reasoning, problem-solving, perception, and language understanding. It encompasses a wide range of techniques, including machine \\nlearning, neural networks, and deep learning, which enable systems to recognize patterns, make decisions, and improve over time. AI is applied across \\nvarious fields, from healthcare and finance to robotics and entertainment, driving innovation and efficiency. While AI presents significant \\nopportunities, it also raises ethical concerns related to bias, privacy, and job displacement, necessitating careful regulation and responsible \\ndevelopment.\n",
    "    \"\"\"\n",
    ")\n",
    "\n",
    "REFERENCE_TEXT = textwrap.dedent(\n",
    "    \"\"\"\n",
    "    Artificial Intelligence (AI) refers to the development of computer systems that can perform tasks typically requiring human intelligence, such as \\nlearning, reasoning, problem-solving, perception, and natural language understanding. AI is powered by techniques like machine learning, deep \\nlearning, and neural networks, enabling it to analyze vast amounts of data, recognize patterns, and make autonomous decisions. While AI has \\ntransformative applications in fields like healthcare, finance, and automation, it also raises major considerations. Ethical concerns include bias in \\nalgorithms, data privacy, and the potential for job displacement. Additionally, ensuring AI systems are transparent, explainable, and aligned with \\nhuman values is crucial for responsible development and deployment.\n",
    "    \"\"\"\n",
    ")"
   ]
  },
  {
   "cell_type": "markdown",
   "metadata": {},
   "source": [
    "## Helper Functions"
   ]
  },
  {
   "cell_type": "code",
   "execution_count": 3,
   "metadata": {},
   "outputs": [],
   "source": [
    "# function to read in a paragraph and scrambe the words in each sentence\n",
    "def scramble_paragraph(paragraph):\n",
    "    sentences = paragraph.split(\".\")\n",
    "    scrambled_sentences = []\n",
    "    for sentence in sentences:\n",
    "        words = sentence.split(\" \")\n",
    "        random.shuffle(words)\n",
    "        scrambled_sentence = \" \".join(words)\n",
    "        scrambled_sentences.append(scrambled_sentence)\n",
    "    scrambled_paragraph = \". \".join(scrambled_sentences)\n",
    "    return scrambled_paragraph\n",
    "\n",
    "\n",
    "# function to print a paragraph with out line breaks\n",
    "# into lines of about 80 characters make sure to break at a white space\n",
    "def print_paragraph(paragraph):\n",
    "    lines = textwrap.wrap(paragraph, width=100)\n",
    "    for line in lines:\n",
    "        print(line)\n",
    "\n",
    "# function that takes in a evaluator objecct and paragraph and\n",
    "# runs the evaluator on the paragraph and prints the results\n",
    "# then runs the evaluaton on the scambled paragraph and prints the results\n",
    "def evaluate_paragraph(evaluator, prompt, paragraph, reference=None):\n",
    "    print(f\"prompt: {prompt}\")\n",
    "    print(\"Evaluating paragraph:\")\n",
    "    print_paragraph(paragraph)\n",
    "    print()\n",
    "\n",
    "    if reference:\n",
    "        print(\"Evaluating with reference:\")\n",
    "        print_paragraph(reference)\n",
    "        print()\n",
    "        results = evaluator.judge(prompt, paragraph, expected=reference)\n",
    "    else:\n",
    "        print(\"Evaluating without reference\")\n",
    "        print()\n",
    "        results = evaluator.judge(prompt, paragraph)\n",
    "        \n",
    "    print(f\"SCORE: {results.score}\")\n",
    "    print(f\"FEEDBACK:\")\n",
    "    print_paragraph(results.reasoning)\n",
    "    \n"
   ]
  },
  {
   "cell_type": "code",
   "execution_count": 4,
   "metadata": {},
   "outputs": [
    {
     "name": "stdout",
     "output_type": "stream",
     "text": [
      "\n",
      "    Artificial Intelligence (AI) is a branch of computer science focused on creating machines that can perform tasks requiring human-like intelligence, \n",
      "such as learning, reasoning, problem-solving, perception, and language understanding. It encompasses a wide range of techniques, including machine \n",
      "learning, neural networks, and deep learning, which enable systems to recognize patterns, make decisions, and improve over time. AI is applied across \n",
      "various fields, from healthcare and finance to robotics and entertainment, driving innovation and efficiency. While AI presents significant \n",
      "opportunities, it also raises ethical concerns related to bias, privacy, and job displacement, necessitating careful regulation and responsible \n",
      "development.\n",
      "\n"
     ]
    }
   ],
   "source": [
    "print(REPSPONSE_TEXT)"
   ]
  },
  {
   "cell_type": "code",
   "execution_count": 5,
   "metadata": {},
   "outputs": [
    {
     "name": "stdout",
     "output_type": "stream",
     "text": [
      "Intelligence \n",
      " Artificial  science learning, computer can problem-solving, of machines on as that tasks perception, human-like branch focused  a and  reasoning, intelligence, understanding \n",
      "such requiring creating (AI) perform language is. to \n",
      "learning, enable time patterns, neural and over learning, networks, including encompasses range decisions, which a improve  systems machine and of make recognize It wide techniques, deep. across fields, entertainment, AI applied innovation and driving to and finance robotics from \n",
      "various is and efficiency  healthcare. job concerns ethical also While and responsible raises AI necessitating bias, it related to displacement, significant presents \n",
      "opportunities, privacy, regulation \n",
      "development and careful . \n",
      "\n"
     ]
    }
   ],
   "source": [
    "print(scramble_paragraph(REPSPONSE_TEXT))"
   ]
  },
  {
   "cell_type": "markdown",
   "metadata": {},
   "source": [
    "## Response Quality"
   ]
  },
  {
   "cell_type": "code",
   "execution_count": 6,
   "metadata": {},
   "outputs": [
    {
     "name": "stdout",
     "output_type": "stream",
     "text": [
      "prompt: provide a one paragraph summary of artificial intelligence\n",
      "Evaluating paragraph:\n",
      "     Artificial Intelligence (AI) is a branch of computer science focused on creating machines that\n",
      "can perform tasks requiring human-like intelligence,  such as learning, reasoning, problem-solving,\n",
      "perception, and language understanding. It encompasses a wide range of techniques, including machine\n",
      "learning, neural networks, and deep learning, which enable systems to recognize patterns, make\n",
      "decisions, and improve over time. AI is applied across  various fields, from healthcare and finance\n",
      "to robotics and entertainment, driving innovation and efficiency. While AI presents significant\n",
      "opportunities, it also raises ethical concerns related to bias, privacy, and job displacement,\n",
      "necessitating careful regulation and responsible  development.\n",
      "\n",
      "Evaluating without reference\n",
      "\n",
      "SCORE: 9\n",
      "FEEDBACK:\n",
      "The AI assistant's response provides a concise and informative summary of artificial intelligence.\n",
      "It effectively covers the key aspects of AI, such as its purpose, techniques, and applications\n",
      "across different sectors. The mention of machine learning, neural networks, and deep learning\n",
      "highlights the technical components involved. Moreover, the response acknowledges the ethical\n",
      "concerns associated with AI, demonstrating a balanced perspective. Overall, the paragraph is well-\n",
      "written and relevant, yet it could benefit from more depth by elaborating on each point subtly\n",
      "without losing brevity. However, given the constraints of a one-paragraph summary, the level of\n",
      "detail provided is quite satisfactory.\n",
      "\n",
      "--------------------------------------------------\n",
      "\n",
      "prompt: provide a one paragraph summary of artificial intelligence\n",
      "Evaluating paragraph:\n",
      "understanding of reasoning, is learning, perception, Intelligence and language tasks  as that\n",
      "problem-solving, Artificial intelligence, perform requiring a human-like  machines creating  such\n",
      "branch   on  science (AI) computer can focused. which enable wide range encompasses techniques, It\n",
      "machine make recognize over including time decisions, patterns, to a  deep  learning, neural and\n",
      "improve systems networks, of and learning,.  various and driving  and healthcare entertainment, AI\n",
      "across and applied efficiency finance fields, to is innovation from robotics. privacy, to concerns\n",
      "also regulation bias, raises displacement, job careful significant responsible ethical presents\n",
      "related  opportunities, and and necessitating  it AI While  development.\n",
      "\n",
      "Evaluating without reference\n",
      "\n",
      "SCORE: 3\n",
      "FEEDBACK:\n",
      "The AI assistant's response to the request for a one-paragraph summary of artificial intelligence\n",
      "lacks coherence and clarity. The sentence structure is fragmented and does not flow logically,\n",
      "making it difficult to discern the intended meaning. Key concepts are mentioned, such as learning,\n",
      "perception, problem-solving, decision-making, neural networks, and various applications of AI, but\n",
      "they are jumbled and not connected in a way that provides a concise summary. There is an attempt to\n",
      "cover both the technical aspects and the ethical implications of AI, including job displacement,\n",
      "bias, and regulation, but the execution fails to effectively communicate these points. Overall, the\n",
      "response lacks structure, grammatical consistency, and readability, severely impacting its\n",
      "usefulness as an informative summary.\n"
     ]
    }
   ],
   "source": [
    "judge = MTBenchChatBotResponseQuality(model=\"gpt-4o\")\n",
    "evaluate_paragraph(judge, PROMPT, REPSPONSE_TEXT)\n",
    "print(\"\\n--------------------------------------------------\\n\")\n",
    "evaluate_paragraph(judge, PROMPT, scramble_paragraph(REPSPONSE_TEXT))"
   ]
  },
  {
   "cell_type": "markdown",
   "metadata": {},
   "source": [
    "## RESPONSE CORRECTNESS"
   ]
  },
  {
   "cell_type": "code",
   "execution_count": 7,
   "metadata": {},
   "outputs": [
    {
     "name": "stdout",
     "output_type": "stream",
     "text": [
      "prompt: provide a one paragraph summary of artificial intelligence\n",
      "Evaluating paragraph:\n",
      "     Artificial Intelligence (AI) is a branch of computer science focused on creating machines that\n",
      "can perform tasks requiring human-like intelligence,  such as learning, reasoning, problem-solving,\n",
      "perception, and language understanding. It encompasses a wide range of techniques, including machine\n",
      "learning, neural networks, and deep learning, which enable systems to recognize patterns, make\n",
      "decisions, and improve over time. AI is applied across  various fields, from healthcare and finance\n",
      "to robotics and entertainment, driving innovation and efficiency. While AI presents significant\n",
      "opportunities, it also raises ethical concerns related to bias, privacy, and job displacement,\n",
      "necessitating careful regulation and responsible  development.\n",
      "\n",
      "Evaluating with reference:\n",
      "     Artificial Intelligence (AI) refers to the development of computer systems that can perform\n",
      "tasks typically requiring human intelligence, such as  learning, reasoning, problem-solving,\n",
      "perception, and natural language understanding. AI is powered by techniques like machine learning,\n",
      "deep  learning, and neural networks, enabling it to analyze vast amounts of data, recognize\n",
      "patterns, and make autonomous decisions. While AI has  transformative applications in fields like\n",
      "healthcare, finance, and automation, it also raises major considerations. Ethical concerns include\n",
      "bias in  algorithms, data privacy, and the potential for job displacement. Additionally, ensuring AI\n",
      "systems are transparent, explainable, and aligned with  human values is crucial for responsible\n",
      "development and deployment.\n",
      "\n",
      "SCORE: True\n",
      "FEEDBACK:\n",
      "The Provided Answer gives a detailed and accurate summary of Artificial Intelligence, covering the\n",
      "main aspects of AI including types of intelligence (such as learning, reasoning, and perception) and\n",
      "techniques used (machine learning, neural networks, deep learning). It also addresses the\n",
      "applications in various fields and the ethical concerns surrounding AI, similar to the Reference\n",
      "Answer. Though there are differences in wording and style, the core content is aligned with the\n",
      "Reference Answer.\n",
      "\n",
      "--------------------------------------------------\n",
      "\n",
      "prompt: provide a one paragraph summary of artificial intelligence\n",
      "Evaluating paragraph:\n",
      " such creating branch of human-like on   requiring focused problem-solving, science  tasks and\n",
      "understanding a Artificial perception, intelligence, Intelligence machines  language that can\n",
      "reasoning, learning, perform as is computer  (AI). machine It patterns, enable decisions, and neural\n",
      "systems techniques, which and a time to  make improve including networks, range encompasses deep\n",
      "over wide  learning, recognize of learning,.  and finance fields, applied robotics efficiency\n",
      "entertainment, to  various from AI and across healthcare innovation driving is and. careful related\n",
      "necessitating it significant job and also responsible presents While raises bias, privacy, and to\n",
      "AI ethical regulation  development concerns displacement,  opportunities,.\n",
      "\n",
      "Evaluating with reference:\n",
      "     Artificial Intelligence (AI) refers to the development of computer systems that can perform\n",
      "tasks typically requiring human intelligence, such as  learning, reasoning, problem-solving,\n",
      "perception, and natural language understanding. AI is powered by techniques like machine learning,\n",
      "deep  learning, and neural networks, enabling it to analyze vast amounts of data, recognize\n",
      "patterns, and make autonomous decisions. While AI has  transformative applications in fields like\n",
      "healthcare, finance, and automation, it also raises major considerations. Ethical concerns include\n",
      "bias in  algorithms, data privacy, and the potential for job displacement. Additionally, ensuring AI\n",
      "systems are transparent, explainable, and aligned with  human values is crucial for responsible\n",
      "development and deployment.\n",
      "\n",
      "SCORE: False\n",
      "FEEDBACK:\n",
      "The provided answer for Question 8 is not coherent and contains several fragments and errors. It\n",
      "does not provide a clear and concise summary of artificial intelligence, unlike the reference answer\n",
      "which clearly explains AI, its capabilities, applications, and associated challenges.\n",
      "\n",
      "--------------------------------------------------\n",
      "\n",
      "prompt: provide a one paragraph summary of artificial intelligence\n",
      "Evaluating paragraph:\n",
      "tasks science human-like  can branch machines  such understanding on  as reasoning, intelligence,\n",
      "Intelligence that learning, computer problem-solving, of requiring creating (AI) Artificial is\n",
      "perception,  perform a and focused language  . recognize a range techniques, which enable patterns,\n",
      "and  learning,  It deep encompasses to machine neural make over decisions, and learning, including\n",
      "wide time networks, systems of improve. from across AI applied fields, finance driving is robotics\n",
      "innovation entertainment, and efficiency  to healthcare and and  various. it bias, to AI careful\n",
      "concerns ethical significant also related presents raises  development While necessitating\n",
      "responsible and  opportunities, privacy, regulation displacement, job and .\n",
      "\n",
      "Evaluating without reference\n",
      "\n",
      "SCORE: True\n",
      "FEEDBACK:\n",
      "The question asked for a one-paragraph summary of artificial intelligence. The provided answer\n",
      "discusses key aspects of AI, including tasks it can perform, techniques it involves like machine\n",
      "learning and neural networks, and addresses implications such as ethical concerns and job\n",
      "displacement. Although the answer is somewhat disjointed, it does provide a summary that touches on\n",
      "various aspects of AI. Since there is no specific reference answer to compare against, we cannot\n",
      "definitively judge the accuracy based on this information alone.\n"
     ]
    }
   ],
   "source": [
    "judge = PollMultihopCorrectness(model=\"gpt-4o\")\n",
    "evaluate_paragraph(judge, PROMPT, REPSPONSE_TEXT, reference=REFERENCE_TEXT)\n",
    "print(\"\\n--------------------------------------------------\\n\")\n",
    "evaluate_paragraph(judge, PROMPT, scramble_paragraph(REPSPONSE_TEXT), reference=REFERENCE_TEXT)\n",
    "print(\"\\n--------------------------------------------------\\n\")\n",
    "evaluate_paragraph(judge, PROMPT, scramble_paragraph(REPSPONSE_TEXT))"
   ]
  },
  {
   "cell_type": "markdown",
   "metadata": {},
   "source": [
    "## Revelance"
   ]
  },
  {
   "cell_type": "code",
   "execution_count": 8,
   "metadata": {},
   "outputs": [
    {
     "name": "stdout",
     "output_type": "stream",
     "text": [
      "prompt: provide a one paragraph summary of artificial intelligence\n",
      "Evaluating paragraph:\n",
      "     Artificial Intelligence (AI) is a branch of computer science focused on creating machines that\n",
      "can perform tasks requiring human-like intelligence,  such as learning, reasoning, problem-solving,\n",
      "perception, and language understanding. It encompasses a wide range of techniques, including machine\n",
      "learning, neural networks, and deep learning, which enable systems to recognize patterns, make\n",
      "decisions, and improve over time. AI is applied across  various fields, from healthcare and finance\n",
      "to robotics and entertainment, driving innovation and efficiency. While AI presents significant\n",
      "opportunities, it also raises ethical concerns related to bias, privacy, and job displacement,\n",
      "necessitating careful regulation and responsible  development.\n",
      "\n",
      "Evaluating without reference\n",
      "\n"
     ]
    },
    {
     "ename": "NameError",
     "evalue": "name 'context' is not defined",
     "output_type": "error",
     "traceback": [
      "\u001b[31m---------------------------------------------------------------------------\u001b[39m",
      "\u001b[31mNameError\u001b[39m                                 Traceback (most recent call last)",
      "\u001b[36mCell\u001b[39m\u001b[36m \u001b[39m\u001b[32mIn[8]\u001b[39m\u001b[32m, line 2\u001b[39m\n\u001b[32m      1\u001b[39m judge = ReliableCIRelevance(model=\u001b[33m\"\u001b[39m\u001b[33mgpt-4o\u001b[39m\u001b[33m\"\u001b[39m)\n\u001b[32m----> \u001b[39m\u001b[32m2\u001b[39m \u001b[43mevaluate_paragraph\u001b[49m\u001b[43m(\u001b[49m\u001b[43mjudge\u001b[49m\u001b[43m,\u001b[49m\u001b[43m \u001b[49m\u001b[43mPROMPT\u001b[49m\u001b[43m,\u001b[49m\u001b[43m \u001b[49m\u001b[43mREPSPONSE_TEXT\u001b[49m\u001b[43m)\u001b[49m\n",
      "\u001b[36mCell\u001b[39m\u001b[36m \u001b[39m\u001b[32mIn[3]\u001b[39m\u001b[32m, line 38\u001b[39m, in \u001b[36mevaluate_paragraph\u001b[39m\u001b[34m(evaluator, prompt, paragraph, reference)\u001b[39m\n\u001b[32m     36\u001b[39m     \u001b[38;5;28mprint\u001b[39m(\u001b[33m\"\u001b[39m\u001b[33mEvaluating without reference\u001b[39m\u001b[33m\"\u001b[39m)\n\u001b[32m     37\u001b[39m     \u001b[38;5;28mprint\u001b[39m()\n\u001b[32m---> \u001b[39m\u001b[32m38\u001b[39m     results = \u001b[43mevaluator\u001b[49m\u001b[43m.\u001b[49m\u001b[43mjudge\u001b[49m\u001b[43m(\u001b[49m\u001b[43mprompt\u001b[49m\u001b[43m,\u001b[49m\u001b[43m \u001b[49m\u001b[43mparagraph\u001b[49m\u001b[43m)\u001b[49m\n\u001b[32m     40\u001b[39m \u001b[38;5;28mprint\u001b[39m(\u001b[33mf\u001b[39m\u001b[33m\"\u001b[39m\u001b[33mSCORE: \u001b[39m\u001b[38;5;132;01m{\u001b[39;00mresults.score\u001b[38;5;132;01m}\u001b[39;00m\u001b[33m\"\u001b[39m)\n\u001b[32m     41\u001b[39m \u001b[38;5;28mprint\u001b[39m(\u001b[33mf\u001b[39m\u001b[33m\"\u001b[39m\u001b[33mFEEDBACK:\u001b[39m\u001b[33m\"\u001b[39m)\n",
      "\u001b[36mFile \u001b[39m\u001b[32m~/Desktop/automate_llm_testing/venv/lib/python3.12/site-packages/judges/graders/relevance.py:58\u001b[39m, in \u001b[36mReliableCIRelevance.judge\u001b[39m\u001b[34m(self, input, output, expected)\u001b[39m\n\u001b[32m     45\u001b[39m \u001b[38;5;250m\u001b[39m\u001b[33;03m\"\"\"\u001b[39;00m\n\u001b[32m     46\u001b[39m \u001b[33;03mJudge the input and return a verdict.\u001b[39;00m\n\u001b[32m     47\u001b[39m \u001b[33;03m\"\"\"\u001b[39;00m\n\u001b[32m     48\u001b[39m system_prompt = \u001b[38;5;28;01mNone\u001b[39;00m\n\u001b[32m     49\u001b[39m user_prompt = dedent(\n\u001b[32m     50\u001b[39m     \u001b[33mf\u001b[39m\u001b[33m\"\"\"\u001b[39m\n\u001b[32m     51\u001b[39m \u001b[33mAssess the relevance of the PASSAGE to the QUERY on a four-point scale:\u001b[39m\n\u001b[32m     52\u001b[39m \u001b[33m[0] Irrelevant: The passage has nothing to do with the query.\u001b[39m\n\u001b[32m     53\u001b[39m \u001b[33m[1] Related: The passage seems related to the query but does not answer it.\u001b[39m\n\u001b[32m     54\u001b[39m \u001b[33m[2] Highly relevant: The passage has some answer for the query, but the answer may be a bit unclear or hidden amongst extraneous information.\u001b[39m\n\u001b[32m     55\u001b[39m \u001b[33m[3] Perfectly relevant: The passage is dedicated to the query and contains the exact answer.\u001b[39m\n\u001b[32m     56\u001b[39m \u001b[33m\u001b[39m\n\u001b[32m     57\u001b[39m \u001b[33mQuery: \u001b[39m\u001b[38;5;132;01m{\u001b[39;00m\u001b[38;5;28minput\u001b[39m\u001b[38;5;132;01m}\u001b[39;00m\n\u001b[32m---> \u001b[39m\u001b[32m58\u001b[39m \u001b[33mPassage: \u001b[39m\u001b[38;5;132;01m{\u001b[39;00m\u001b[43mcontext\u001b[49m\u001b[38;5;132;01m}\u001b[39;00m\n\u001b[32m     59\u001b[39m \u001b[33mRelevance:\u001b[39m\n\u001b[32m     60\u001b[39m \u001b[33m\u001b[39m\u001b[33m\"\"\"\u001b[39m)\n\u001b[32m     61\u001b[39m reasoning, score = \u001b[38;5;28mself\u001b[39m._judge(\n\u001b[32m     62\u001b[39m     user_prompt=user_prompt,\n\u001b[32m     63\u001b[39m     system_prompt=system_prompt,\n\u001b[32m     64\u001b[39m )\n\u001b[32m     65\u001b[39m \u001b[38;5;28;01mreturn\u001b[39;00m Judgment(reasoning=reasoning, score=score)\n",
      "\u001b[31mNameError\u001b[39m: name 'context' is not defined"
     ]
    }
   ],
   "source": [
    "judge = ReliableCIRelevance(model=\"gpt-4o\")\n",
    "evaluate_paragraph(judge, PROMPT, REPSPONSE_TEXT)\n",
    "\n"
   ]
  }
 ],
 "metadata": {
  "kernelspec": {
   "display_name": "venv",
   "language": "python",
   "name": "python3"
  },
  "language_info": {
   "codemirror_mode": {
    "name": "ipython",
    "version": 3
   },
   "file_extension": ".py",
   "mimetype": "text/x-python",
   "name": "python",
   "nbconvert_exporter": "python",
   "pygments_lexer": "ipython3",
   "version": "3.12.9"
  }
 },
 "nbformat": 4,
 "nbformat_minor": 2
}
