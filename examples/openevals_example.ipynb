{
 "cells": [
  {
   "cell_type": "code",
   "execution_count": 4,
   "metadata": {},
   "outputs": [],
   "source": [
    "import json\n",
    "import textwrap\n",
    "import random\n",
    "import pandas as pd\n",
    "import random\n",
    "\n",
    "\n",
    "from openevals.llm import create_llm_as_judge\n",
    "from openevals.prompts import CORRECTNESS_PROMPT"
   ]
  },
  {
   "cell_type": "code",
   "execution_count": 5,
   "metadata": {},
   "outputs": [],
   "source": [
    "PROMPT = \"provide a one paragraph summary of artificial intelligence\"\n",
    "\n",
    "REPSPONSE_TEXT = textwrap.dedent(\n",
    "    \"\"\"\n",
    "    Artificial Intelligence (AI) is a branch of computer science focused on creating machines that can perform tasks requiring human-like intelligence, \\nsuch as learning, reasoning, problem-solving, perception, and language understanding. It encompasses a wide range of techniques, including machine \\nlearning, neural networks, and deep learning, which enable systems to recognize patterns, make decisions, and improve over time. AI is applied across \\nvarious fields, from healthcare and finance to robotics and entertainment, driving innovation and efficiency. While AI presents significant \\nopportunities, it also raises ethical concerns related to bias, privacy, and job displacement, necessitating careful regulation and responsible \\ndevelopment.\n",
    "    \"\"\"\n",
    ")\n",
    "\n",
    "REFERENCE_TEXT = textwrap.dedent(\n",
    "    \"\"\"\n",
    "    Artificial Intelligence (AI) refers to the development of computer systems that can perform tasks typically requiring human intelligence, such as \\nlearning, reasoning, problem-solving, perception, and natural language understanding. AI is powered by techniques like machine learning, deep \\nlearning, and neural networks, enabling it to analyze vast amounts of data, recognize patterns, and make autonomous decisions. While AI has \\ntransformative applications in fields like healthcare, finance, and automation, it also raises major considerations. Ethical concerns include bias in \\nalgorithms, data privacy, and the potential for job displacement. Additionally, ensuring AI systems are transparent, explainable, and aligned with \\nhuman values is crucial for responsible development and deployment.\n",
    "    \"\"\"\n",
    ")"
   ]
  },
  {
   "cell_type": "markdown",
   "metadata": {},
   "source": [
    "## Helper Functions"
   ]
  },
  {
   "cell_type": "code",
   "execution_count": 6,
   "metadata": {},
   "outputs": [],
   "source": [
    "# function to read in a paragraph and scrambe the words in each sentence\n",
    "def scramble_paragraph(paragraph):\n",
    "    sentences = paragraph.split(\".\")\n",
    "    scrambled_sentences = []\n",
    "    for sentence in sentences:\n",
    "        words = sentence.split(\" \")\n",
    "        random.shuffle(words)\n",
    "        scrambled_sentence = \" \".join(words)\n",
    "        scrambled_sentences.append(scrambled_sentence)\n",
    "    scrambled_paragraph = \". \".join(scrambled_sentences)\n",
    "    return scrambled_paragraph\n",
    "\n",
    "\n",
    "# function to print a paragraph with out line breaks\n",
    "# into lines of about 80 characters make sure to break at a white space\n",
    "def print_paragraph(paragraph):\n",
    "    lines = textwrap.wrap(paragraph, width=100)\n",
    "    for line in lines:\n",
    "        print(line)\n",
    "\n",
    "# function that takes in a evaluator objecct and paragraph and\n",
    "# runs the evaluator on the paragraph and prints the results\n",
    "# then runs the evaluaton on the scambled paragraph and prints the results\n",
    "def evaluate_paragraph(evaluator, prompt, paragraph, reference=None):\n",
    "    print(f\"prompt: {prompt}\")\n",
    "    print(\"Evaluating paragraph:\")\n",
    "    print_paragraph(paragraph)\n",
    "    print()\n",
    "\n",
    "    if reference:\n",
    "        print(\"Evaluating with reference:\")\n",
    "        print_paragraph(reference)\n",
    "        print()\n",
    "        results = evaluator(\n",
    "            inputs=prompt, \n",
    "            outputs=paragraph, \n",
    "            reference_outputs=reference\n",
    "        )\n",
    "    else:\n",
    "        print(\"Evaluating without reference\")\n",
    "        print()\n",
    "        results = evaluator(\n",
    "            inputs=prompt, \n",
    "            outputs=paragraph\n",
    "        )\n",
    "        \n",
    "    print(f\"KEY: {results['key']}\")\n",
    "    print(f\"SCORE: {results['score']}\")\n",
    "    print(f\"FEEDBACK:\")\n",
    "    print_paragraph(results['comment'])\n",
    "    \n"
   ]
  },
  {
   "cell_type": "code",
   "execution_count": 7,
   "metadata": {},
   "outputs": [
    {
     "name": "stdout",
     "output_type": "stream",
     "text": [
      "\n",
      "    Artificial Intelligence (AI) is a branch of computer science focused on creating machines that can perform tasks requiring human-like intelligence, \n",
      "such as learning, reasoning, problem-solving, perception, and language understanding. It encompasses a wide range of techniques, including machine \n",
      "learning, neural networks, and deep learning, which enable systems to recognize patterns, make decisions, and improve over time. AI is applied across \n",
      "various fields, from healthcare and finance to robotics and entertainment, driving innovation and efficiency. While AI presents significant \n",
      "opportunities, it also raises ethical concerns related to bias, privacy, and job displacement, necessitating careful regulation and responsible \n",
      "development.\n",
      "\n"
     ]
    }
   ],
   "source": [
    "print(REPSPONSE_TEXT)"
   ]
  },
  {
   "cell_type": "code",
   "execution_count": 8,
   "metadata": {},
   "outputs": [
    {
     "name": "stdout",
     "output_type": "stream",
     "text": [
      "tasks branch understanding that perception, science problem-solving, a human-like Intelligence and  is (AI) machines creating learning,  \n",
      " requiring can as Artificial on of focused language intelligence, computer  reasoning, perform \n",
      "such. It systems networks, a enable  make encompasses patterns, range which of over and techniques, \n",
      "learning, decisions, deep wide and machine improve recognize to time neural including learning,. fields,  and across from efficiency applied to entertainment, innovation and finance driving robotics AI healthcare is and \n",
      "various. also While regulation raises and responsible privacy, \n",
      "opportunities, it and  necessitating ethical significant \n",
      "development AI careful bias, related to displacement, concerns presents job. \n",
      "\n"
     ]
    }
   ],
   "source": [
    "print(scramble_paragraph(REPSPONSE_TEXT))"
   ]
  },
  {
   "cell_type": "markdown",
   "metadata": {},
   "source": [
    "## RESPONSE CORRECTNESS"
   ]
  },
  {
   "cell_type": "code",
   "execution_count": 9,
   "metadata": {},
   "outputs": [
    {
     "name": "stdout",
     "output_type": "stream",
     "text": [
      "prompt: provide a one paragraph summary of artificial intelligence\n",
      "Evaluating paragraph:\n",
      "     Artificial Intelligence (AI) is a branch of computer science focused on creating machines that\n",
      "can perform tasks requiring human-like intelligence,  such as learning, reasoning, problem-solving,\n",
      "perception, and language understanding. It encompasses a wide range of techniques, including machine\n",
      "learning, neural networks, and deep learning, which enable systems to recognize patterns, make\n",
      "decisions, and improve over time. AI is applied across  various fields, from healthcare and finance\n",
      "to robotics and entertainment, driving innovation and efficiency. While AI presents significant\n",
      "opportunities, it also raises ethical concerns related to bias, privacy, and job displacement,\n",
      "necessitating careful regulation and responsible  development.\n",
      "\n",
      "Evaluating with reference:\n",
      "     Artificial Intelligence (AI) refers to the development of computer systems that can perform\n",
      "tasks typically requiring human intelligence, such as  learning, reasoning, problem-solving,\n",
      "perception, and natural language understanding. AI is powered by techniques like machine learning,\n",
      "deep  learning, and neural networks, enabling it to analyze vast amounts of data, recognize\n",
      "patterns, and make autonomous decisions. While AI has  transformative applications in fields like\n",
      "healthcare, finance, and automation, it also raises major considerations. Ethical concerns include\n",
      "bias in  algorithms, data privacy, and the potential for job displacement. Additionally, ensuring AI\n",
      "systems are transparent, explainable, and aligned with  human values is crucial for responsible\n",
      "development and deployment.\n",
      "\n",
      "KEY: correctness\n",
      "SCORE: True\n",
      "FEEDBACK:\n",
      "The provided summary accurately and completely describes artificial intelligence in one paragraph,\n",
      "addressing its definition, techniques (machine learning, neural networks, and deep learning),\n",
      "applications in various fields, and associated ethical concerns such as bias, privacy, and job\n",
      "displacement. It aligns with the reference outputs and meets the criteria of completeness, factual\n",
      "accuracy, and logical consistency. Thus, the score should be: true.\n",
      "\n",
      "--------------------------------------------------\n",
      "\n",
      "prompt: provide a one paragraph summary of artificial intelligence\n",
      "Evaluating paragraph:\n",
      "perform  human-like  language science intelligence, can perception, problem-solving, creating\n",
      "computer a branch   of  and on learning, is machines reasoning, tasks focused Artificial (AI)\n",
      "Intelligence understanding as requiring that  such.  which neural a over systems and time including\n",
      "patterns, and range learning, recognize wide decisions, machine make of networks, improve\n",
      "encompasses techniques, to It deep enable  learning,. driving fields, healthcare  AI from robotics\n",
      "finance and efficiency and innovation entertainment,  various across to is and applied. ethical\n",
      "related presents  opportunities, necessitating careful and significant regulation concerns AI\n",
      "development job and it bias, also responsible privacy, While raises to displacement, .\n",
      "\n",
      "Evaluating with reference:\n",
      "     Artificial Intelligence (AI) refers to the development of computer systems that can perform\n",
      "tasks typically requiring human intelligence, such as  learning, reasoning, problem-solving,\n",
      "perception, and natural language understanding. AI is powered by techniques like machine learning,\n",
      "deep  learning, and neural networks, enabling it to analyze vast amounts of data, recognize\n",
      "patterns, and make autonomous decisions. While AI has  transformative applications in fields like\n",
      "healthcare, finance, and automation, it also raises major considerations. Ethical concerns include\n",
      "bias in  algorithms, data privacy, and the potential for job displacement. Additionally, ensuring AI\n",
      "systems are transparent, explainable, and aligned with  human values is crucial for responsible\n",
      "development and deployment.\n",
      "\n",
      "KEY: correctness\n",
      "SCORE: False\n",
      "FEEDBACK:\n",
      "The output provided is a disjointed and unstructured string of phrases that fails to form a coherent\n",
      "and complete one-paragraph summary of artificial intelligence. It neither clearly defines AI nor\n",
      "properly describes its key aspects like machine learning, deep learning, or neural networks.\n",
      "Additionally, the ethical and application contexts mentioned are scattered and not logically\n",
      "organized, which makes the information both incomplete and factually unclear. Thus, the score should\n",
      "be: false.\n"
     ]
    }
   ],
   "source": [
    "judge = correctness_evaluator = create_llm_as_judge(\n",
    "    prompt=CORRECTNESS_PROMPT,\n",
    "    feedback_key=\"correctness\",\n",
    "    model=\"openai:o3-mini\"\n",
    ")\n",
    "evaluate_paragraph(judge, PROMPT, REPSPONSE_TEXT, reference=REFERENCE_TEXT)\n",
    "print(\"\\n--------------------------------------------------\\n\")\n",
    "evaluate_paragraph(judge, PROMPT, scramble_paragraph(REPSPONSE_TEXT), reference=REFERENCE_TEXT)\n"
   ]
  },
  {
   "cell_type": "code",
   "execution_count": 11,
   "metadata": {},
   "outputs": [
    {
     "name": "stdout",
     "output_type": "stream",
     "text": [
      "prompt: provide a one paragraph summary of artificial intelligence\n",
      "Evaluating paragraph:\n",
      "     Artificial Intelligence (AI) is a branch of computer science focused on creating machines that\n",
      "can perform tasks requiring human-like intelligence,  such as learning, reasoning, problem-solving,\n",
      "perception, and language understanding. It encompasses a wide range of techniques, including machine\n",
      "learning, neural networks, and deep learning, which enable systems to recognize patterns, make\n",
      "decisions, and improve over time. AI is applied across  various fields, from healthcare and finance\n",
      "to robotics and entertainment, driving innovation and efficiency. While AI presents significant\n",
      "opportunities, it also raises ethical concerns related to bias, privacy, and job displacement,\n",
      "necessitating careful regulation and responsible  development.\n",
      "\n",
      "Evaluating with reference:\n",
      "     Artificial Intelligence (AI) refers to the development of computer systems that can perform\n",
      "tasks typically requiring human intelligence, such as  learning, reasoning, problem-solving,\n",
      "perception, and natural language understanding. AI is powered by techniques like machine learning,\n",
      "deep  learning, and neural networks, enabling it to analyze vast amounts of data, recognize\n",
      "patterns, and make autonomous decisions. While AI has  transformative applications in fields like\n",
      "healthcare, finance, and automation, it also raises major considerations. Ethical concerns include\n",
      "bias in  algorithms, data privacy, and the potential for job displacement. Additionally, ensuring AI\n",
      "systems are transparent, explainable, and aligned with  human values is crucial for responsible\n",
      "development and deployment.\n",
      "\n"
     ]
    },
    {
     "ename": "TypeError",
     "evalue": "'NoneType' object is not subscriptable",
     "output_type": "error",
     "traceback": [
      "\u001b[31m---------------------------------------------------------------------------\u001b[39m",
      "\u001b[31mTypeError\u001b[39m                                 Traceback (most recent call last)",
      "\u001b[36mCell\u001b[39m\u001b[36m \u001b[39m\u001b[32mIn[11]\u001b[39m\u001b[32m, line 6\u001b[39m\n\u001b[32m      1\u001b[39m judge = correctness_evaluator = create_llm_as_judge(\n\u001b[32m      2\u001b[39m     prompt=CORRECTNESS_PROMPT,\n\u001b[32m      3\u001b[39m     feedback_key=\u001b[33m\"\u001b[39m\u001b[33mcorrectness\u001b[39m\u001b[33m\"\u001b[39m,\n\u001b[32m      4\u001b[39m     model=\u001b[33m\"\u001b[39m\u001b[33mollama:mistral-nemo\u001b[39m\u001b[33m\"\u001b[39m\n\u001b[32m      5\u001b[39m )\n\u001b[32m----> \u001b[39m\u001b[32m6\u001b[39m \u001b[43mevaluate_paragraph\u001b[49m\u001b[43m(\u001b[49m\u001b[43mjudge\u001b[49m\u001b[43m,\u001b[49m\u001b[43m \u001b[49m\u001b[43mPROMPT\u001b[49m\u001b[43m,\u001b[49m\u001b[43m \u001b[49m\u001b[43mREPSPONSE_TEXT\u001b[49m\u001b[43m,\u001b[49m\u001b[43m \u001b[49m\u001b[43mreference\u001b[49m\u001b[43m=\u001b[49m\u001b[43mREFERENCE_TEXT\u001b[49m\u001b[43m)\u001b[49m\n\u001b[32m      7\u001b[39m \u001b[38;5;28mprint\u001b[39m(\u001b[33m\"\u001b[39m\u001b[38;5;130;01m\\n\u001b[39;00m\u001b[33m--------------------------------------------------\u001b[39m\u001b[38;5;130;01m\\n\u001b[39;00m\u001b[33m\"\u001b[39m)\n\u001b[32m      8\u001b[39m evaluate_paragraph(judge, PROMPT, scramble_paragraph(REPSPONSE_TEXT), reference=REFERENCE_TEXT)\n",
      "\u001b[36mCell\u001b[39m\u001b[36m \u001b[39m\u001b[32mIn[6]\u001b[39m\u001b[32m, line 34\u001b[39m, in \u001b[36mevaluate_paragraph\u001b[39m\u001b[34m(evaluator, prompt, paragraph, reference)\u001b[39m\n\u001b[32m     32\u001b[39m     print_paragraph(reference)\n\u001b[32m     33\u001b[39m     \u001b[38;5;28mprint\u001b[39m()\n\u001b[32m---> \u001b[39m\u001b[32m34\u001b[39m     results = \u001b[43mevaluator\u001b[49m\u001b[43m(\u001b[49m\n\u001b[32m     35\u001b[39m \u001b[43m        \u001b[49m\u001b[43minputs\u001b[49m\u001b[43m=\u001b[49m\u001b[43mprompt\u001b[49m\u001b[43m,\u001b[49m\u001b[43m \u001b[49m\n\u001b[32m     36\u001b[39m \u001b[43m        \u001b[49m\u001b[43moutputs\u001b[49m\u001b[43m=\u001b[49m\u001b[43mparagraph\u001b[49m\u001b[43m,\u001b[49m\u001b[43m \u001b[49m\n\u001b[32m     37\u001b[39m \u001b[43m        \u001b[49m\u001b[43mreference_outputs\u001b[49m\u001b[43m=\u001b[49m\u001b[43mreference\u001b[49m\n\u001b[32m     38\u001b[39m \u001b[43m    \u001b[49m\u001b[43m)\u001b[49m\n\u001b[32m     39\u001b[39m \u001b[38;5;28;01melse\u001b[39;00m:\n\u001b[32m     40\u001b[39m     \u001b[38;5;28mprint\u001b[39m(\u001b[33m\"\u001b[39m\u001b[33mEvaluating without reference\u001b[39m\u001b[33m\"\u001b[39m)\n",
      "\u001b[36mFile \u001b[39m\u001b[32m~/Desktop/automate_llm_testing/openevals/lib/python3.12/site-packages/openevals/llm.py:530\u001b[39m, in \u001b[36mcreate_llm_as_judge.<locals>._wrapped_evaluator\u001b[39m\u001b[34m(inputs, outputs, reference_outputs, **kwargs)\u001b[39m\n\u001b[32m    518\u001b[39m \u001b[38;5;28;01mdef\u001b[39;00m\u001b[38;5;250m \u001b[39m\u001b[34m_wrapped_evaluator\u001b[39m(\n\u001b[32m    519\u001b[39m     *,\n\u001b[32m    520\u001b[39m     inputs: \u001b[38;5;28mdict\u001b[39m,\n\u001b[32m   (...)\u001b[39m\u001b[32m    523\u001b[39m     **kwargs,\n\u001b[32m    524\u001b[39m ) -> EvaluatorResult:\n\u001b[32m    525\u001b[39m     run_name = (\n\u001b[32m    526\u001b[39m         \u001b[33m\"\u001b[39m\u001b[33mllm_as_judge\u001b[39m\u001b[33m\"\u001b[39m\n\u001b[32m    527\u001b[39m         \u001b[38;5;28;01mif\u001b[39;00m feedback_key == \u001b[33m\"\u001b[39m\u001b[33mscore\u001b[39m\u001b[33m\"\u001b[39m\n\u001b[32m    528\u001b[39m         \u001b[38;5;28;01melse\u001b[39;00m \u001b[33mf\u001b[39m\u001b[33m\"\u001b[39m\u001b[33mllm_as_\u001b[39m\u001b[38;5;132;01m{\u001b[39;00mfeedback_key\u001b[38;5;132;01m}\u001b[39;00m\u001b[33m_judge\u001b[39m\u001b[33m\"\u001b[39m\n\u001b[32m    529\u001b[39m     )\n\u001b[32m--> \u001b[39m\u001b[32m530\u001b[39m     res = \u001b[43m_run_evaluator\u001b[49m\u001b[43m(\u001b[49m\n\u001b[32m    531\u001b[39m \u001b[43m        \u001b[49m\u001b[43mrun_name\u001b[49m\u001b[43m=\u001b[49m\u001b[43mrun_name\u001b[49m\u001b[43m,\u001b[49m\n\u001b[32m    532\u001b[39m \u001b[43m        \u001b[49m\u001b[43mscorer\u001b[49m\u001b[43m=\u001b[49m\u001b[43mscorer\u001b[49m\u001b[43m,\u001b[49m\n\u001b[32m    533\u001b[39m \u001b[43m        \u001b[49m\u001b[43mfeedback_key\u001b[49m\u001b[43m=\u001b[49m\u001b[43mfeedback_key\u001b[49m\u001b[43m,\u001b[49m\n\u001b[32m    534\u001b[39m \u001b[43m        \u001b[49m\u001b[43minputs\u001b[49m\u001b[43m=\u001b[49m\u001b[43minputs\u001b[49m\u001b[43m,\u001b[49m\n\u001b[32m    535\u001b[39m \u001b[43m        \u001b[49m\u001b[43moutputs\u001b[49m\u001b[43m=\u001b[49m\u001b[43moutputs\u001b[49m\u001b[43m,\u001b[49m\n\u001b[32m    536\u001b[39m \u001b[43m        \u001b[49m\u001b[43mreference_outputs\u001b[49m\u001b[43m=\u001b[49m\u001b[43mreference_outputs\u001b[49m\u001b[43m,\u001b[49m\n\u001b[32m    537\u001b[39m \u001b[43m        \u001b[49m\u001b[43m*\u001b[49m\u001b[43m*\u001b[49m\u001b[43mkwargs\u001b[49m\u001b[43m,\u001b[49m\n\u001b[32m    538\u001b[39m \u001b[43m    \u001b[49m\u001b[43m)\u001b[49m\n\u001b[32m    539\u001b[39m     \u001b[38;5;28;01mif\u001b[39;00m \u001b[38;5;28misinstance\u001b[39m(res, \u001b[38;5;28mlist\u001b[39m):\n\u001b[32m    540\u001b[39m         \u001b[38;5;28;01mreturn\u001b[39;00m res[\u001b[32m0\u001b[39m]\n",
      "\u001b[36mFile \u001b[39m\u001b[32m~/Desktop/automate_llm_testing/openevals/lib/python3.12/site-packages/openevals/utils.py:128\u001b[39m, in \u001b[36m_run_evaluator\u001b[39m\u001b[34m(run_name, scorer, feedback_key, ls_framework, **kwargs)\u001b[39m\n\u001b[32m    122\u001b[39m             t.log_feedback(\n\u001b[32m    123\u001b[39m                 key=results[\u001b[33m\"\u001b[39m\u001b[33mkey\u001b[39m\u001b[33m\"\u001b[39m],\n\u001b[32m    124\u001b[39m                 score=results[\u001b[33m\"\u001b[39m\u001b[33mscore\u001b[39m\u001b[33m\"\u001b[39m],\n\u001b[32m    125\u001b[39m                 comment=results[\u001b[33m\"\u001b[39m\u001b[33mcomment\u001b[39m\u001b[33m\"\u001b[39m],\n\u001b[32m    126\u001b[39m             )\n\u001b[32m    127\u001b[39m \u001b[38;5;28;01melse\u001b[39;00m:\n\u001b[32m--> \u001b[39m\u001b[32m128\u001b[39m     results = \u001b[43m_run_scorer\u001b[49m\u001b[43m(\u001b[49m\u001b[43m)\u001b[49m\n\u001b[32m    130\u001b[39m \u001b[38;5;66;03m# Return single result or list of results\u001b[39;00m\n\u001b[32m    131\u001b[39m \u001b[38;5;28;01mreturn\u001b[39;00m results\n",
      "\u001b[36mFile \u001b[39m\u001b[32m~/Desktop/automate_llm_testing/openevals/lib/python3.12/site-packages/openevals/utils.py:88\u001b[39m, in \u001b[36m_run_evaluator.<locals>._run_scorer\u001b[39m\u001b[34m()\u001b[39m\n\u001b[32m     86\u001b[39m \u001b[38;5;28;01mdef\u001b[39;00m\u001b[38;5;250m \u001b[39m\u001b[34m_run_scorer\u001b[39m():\n\u001b[32m     87\u001b[39m     \u001b[38;5;66;03m# Get the initial score\u001b[39;00m\n\u001b[32m---> \u001b[39m\u001b[32m88\u001b[39m     score = \u001b[43mscorer\u001b[49m\u001b[43m(\u001b[49m\u001b[43m*\u001b[49m\u001b[43m*\u001b[49m\u001b[43mkwargs\u001b[49m\u001b[43m)\u001b[49m\n\u001b[32m     90\u001b[39m     \u001b[38;5;66;03m# Collect all results first\u001b[39;00m\n\u001b[32m     91\u001b[39m     \u001b[38;5;28;01mif\u001b[39;00m \u001b[38;5;28misinstance\u001b[39m(score, \u001b[38;5;28mdict\u001b[39m):\n",
      "\u001b[36mFile \u001b[39m\u001b[32m~/Desktop/automate_llm_testing/openevals/lib/python3.12/site-packages/openevals/llm.py:244\u001b[39m, in \u001b[36m_create_llm_as_judge_scorer.<locals>.get_score\u001b[39m\u001b[34m(inputs, outputs, reference_outputs, **kwargs)\u001b[39m\n\u001b[32m    242\u001b[39m \u001b[38;5;28;01mif\u001b[39;00m schema \u001b[38;5;129;01mis\u001b[39;00m \u001b[38;5;28;01mNone\u001b[39;00m:\n\u001b[32m    243\u001b[39m     \u001b[38;5;28;01mif\u001b[39;00m use_reasoning:\n\u001b[32m--> \u001b[39m\u001b[32m244\u001b[39m         \u001b[38;5;28;01mreturn\u001b[39;00m (\u001b[43mresponse\u001b[49m\u001b[43m[\u001b[49m\u001b[33;43m\"\u001b[39;49m\u001b[33;43mscore\u001b[39;49m\u001b[33;43m\"\u001b[39;49m\u001b[43m]\u001b[49m, response[\u001b[33m\"\u001b[39m\u001b[33mreasoning\u001b[39m\u001b[33m\"\u001b[39m])  \u001b[38;5;66;03m# type: ignore\u001b[39;00m\n\u001b[32m    245\u001b[39m     \u001b[38;5;28;01mreturn\u001b[39;00m response[\u001b[33m\"\u001b[39m\u001b[33mscore\u001b[39m\u001b[33m\"\u001b[39m]  \u001b[38;5;66;03m# type: ignore\u001b[39;00m\n\u001b[32m    246\u001b[39m \u001b[38;5;28;01melse\u001b[39;00m:\n",
      "\u001b[31mTypeError\u001b[39m: 'NoneType' object is not subscriptable"
     ]
    }
   ],
   "source": [
    "judge = correctness_evaluator = create_llm_as_judge(\n",
    "    prompt=CORRECTNESS_PROMPT,\n",
    "    feedback_key=\"correctness\",\n",
    "    model=\"ollama:mistral-nemo\"\n",
    ")\n",
    "evaluate_paragraph(judge, PROMPT, REPSPONSE_TEXT, reference=REFERENCE_TEXT)\n",
    "print(\"\\n--------------------------------------------------\\n\")\n",
    "evaluate_paragraph(judge, PROMPT, scramble_paragraph(REPSPONSE_TEXT), reference=REFERENCE_TEXT)"
   ]
  }
 ],
 "metadata": {
  "kernelspec": {
   "display_name": "openevals",
   "language": "python",
   "name": "python3"
  },
  "language_info": {
   "codemirror_mode": {
    "name": "ipython",
    "version": 3
   },
   "file_extension": ".py",
   "mimetype": "text/x-python",
   "name": "python",
   "nbconvert_exporter": "python",
   "pygments_lexer": "ipython3",
   "version": "3.12.9"
  }
 },
 "nbformat": 4,
 "nbformat_minor": 2
}
